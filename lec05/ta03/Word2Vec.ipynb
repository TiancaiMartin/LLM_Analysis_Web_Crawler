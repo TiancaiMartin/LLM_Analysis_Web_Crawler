{
 "cells": [
  {
   "cell_type": "code",
   "execution_count": 2,
   "metadata": {},
   "outputs": [
    {
     "name": "stdout",
     "output_type": "stream",
     "text": [
      "Collecting gensim\n",
      "  Downloading gensim-4.2.0-cp38-cp38-macosx_10_9_x86_64.whl (24.0 MB)\n",
      "\u001b[K     |████████████████████████████████| 24.0 MB 98 kB/s eta 0:00:0111\n",
      "\u001b[?25hRequirement already satisfied: scipy>=0.18.1 in /Users/fanj/opt/anaconda3/lib/python3.8/site-packages (from gensim) (1.6.2)\n",
      "Collecting smart-open>=1.8.1\n",
      "  Downloading smart_open-6.2.0-py3-none-any.whl (58 kB)\n",
      "\u001b[K     |████████████████████████████████| 58 kB 4.3 MB/s eta 0:00:011\n",
      "\u001b[?25hRequirement already satisfied: numpy>=1.17.0 in /Users/fanj/opt/anaconda3/lib/python3.8/site-packages (from gensim) (1.20.1)\n",
      "Installing collected packages: smart-open, gensim\n",
      "Successfully installed gensim-4.2.0 smart-open-6.2.0\n",
      "[['human', 'interface', 'computer'], ['survey', 'user', 'computer', 'system', 'response', 'time'], ['eps', 'user', 'interface', 'system'], ['system', 'human', 'system', 'eps'], ['user', 'response', 'time'], ['trees'], ['graph', 'trees'], ['graph', 'minors', 'trees'], ['graph', 'minors', 'survey']]\n"
     ]
    }
   ],
   "source": [
    "!pip3 install gensim\n",
    "from collections import defaultdict\n",
    "from gensim import corpora\n",
    "\n",
    "documents = [\n",
    "    \"Human machine interface for lab abc computer applications\",\n",
    "    \"A survey of user opinion of computer system response time\",\n",
    "    \"The EPS user interface management system\",\n",
    "    \"System and human system engineering testing of EPS\",\n",
    "    \"Relation of user perceived response time to error measurement\",\n",
    "    \"The generation of random binary unordered trees\",\n",
    "    \"The intersection graph of paths in trees\",\n",
    "    \"Graph minors IV Widths of trees and well quasi ordering\",\n",
    "    \"Graph minors A survey\",\n",
    "]\n",
    "\n",
    "# 去除停用词\n",
    "stoplist = set('for a of the and to in'.split())\n",
    "texts = [\n",
    "    [word for word in document.lower().split() if word not in stoplist]\n",
    "    for document in documents\n",
    "]\n",
    "\n",
    "# 去除只出现一次的词\n",
    "frequency = defaultdict(int)\n",
    "for text in texts:\n",
    "    for token in text:\n",
    "        frequency[token] += 1\n",
    "        \n",
    "#处理后的Bag-of-words文本\n",
    "texts = [\n",
    "    [token for token in text if frequency[token] > 1]\n",
    "    for text in texts\n",
    "]\n",
    "\n",
    "print(texts)"
   ]
  },
  {
   "cell_type": "code",
   "execution_count": 3,
   "metadata": {},
   "outputs": [
    {
     "name": "stdout",
     "output_type": "stream",
     "text": [
      "{'computer': 0, 'human': 1, 'interface': 2, 'response': 3, 'survey': 4, 'system': 5, 'time': 6, 'user': 7, 'eps': 8, 'trees': 9, 'graph': 10, 'minors': 11}\n",
      "\n",
      "[[(0, 1), (1, 1), (2, 1)], [(0, 1), (3, 1), (4, 1), (5, 1), (6, 1), (7, 1)], [(2, 1), (5, 1), (7, 1), (8, 1)], [(1, 1), (5, 2), (8, 1)], [(3, 1), (6, 1), (7, 1)], [(9, 1)], [(9, 1), (10, 1)], [(9, 1), (10, 1), (11, 1)], [(4, 1), (10, 1), (11, 1)]]\n"
     ]
    }
   ],
   "source": [
    "#建立字典\n",
    "dictionary = corpora.Dictionary(texts)\n",
    "print(dictionary.token2id)\n",
    "print()\n",
    "#基于上述字典建立corpus\n",
    "corpus = [dictionary.doc2bow(text) for text in texts]\n",
    "print(corpus)"
   ]
  },
  {
   "cell_type": "code",
   "execution_count": 4,
   "metadata": {},
   "outputs": [
    {
     "name": "stdout",
     "output_type": "stream",
     "text": [
      "TfidfModel<num_docs=9, num_nnz=28>\n"
     ]
    }
   ],
   "source": [
    "from gensim import models\n",
    "#tf-idf表达\n",
    "\n",
    "#初始化tf-idf模型，主要是计算IDF\n",
    "tfidf = models.TfidfModel(corpus)  \n",
    "print(tfidf)"
   ]
  },
  {
   "cell_type": "code",
   "execution_count": 5,
   "metadata": {},
   "outputs": [
    {
     "name": "stdout",
     "output_type": "stream",
     "text": [
      "[(0, 0.5773502691896257), (1, 0.5773502691896257), (2, 0.5773502691896257)] Human machine interface for lab abc computer applications\n",
      "[(0, 0.44424552527467476), (3, 0.44424552527467476), (4, 0.44424552527467476), (5, 0.3244870206138555), (6, 0.44424552527467476), (7, 0.3244870206138555)] A survey of user opinion of computer system response time\n",
      "[(2, 0.5710059809418182), (5, 0.4170757362022777), (7, 0.4170757362022777), (8, 0.5710059809418182)] The EPS user interface management system\n",
      "[(1, 0.49182558987264147), (5, 0.7184811607083769), (8, 0.49182558987264147)] System and human system engineering testing of EPS\n",
      "[(3, 0.6282580468670046), (6, 0.6282580468670046), (7, 0.45889394536615247)] Relation of user perceived response time to error measurement\n",
      "[(9, 1.0)] The generation of random binary unordered trees\n",
      "[(9, 0.7071067811865475), (10, 0.7071067811865475)] The intersection graph of paths in trees\n",
      "[(9, 0.5080429008916749), (10, 0.5080429008916749), (11, 0.695546419520037)] Graph minors IV Widths of trees and well quasi ordering\n",
      "[(4, 0.6282580468670046), (10, 0.45889394536615247), (11, 0.6282580468670046)] Graph minors A survey\n"
     ]
    }
   ],
   "source": [
    "#得到每一个文档的TF-IDF表达，以稀疏矩阵的形式存储\n",
    "corpus_tfidf = tfidf[corpus]\n",
    "for doc, as_text in zip(corpus_tfidf, documents):\n",
    "    print(doc, as_text)"
   ]
  },
  {
   "cell_type": "code",
   "execution_count": 6,
   "metadata": {},
   "outputs": [
    {
     "data": {
      "text/plain": [
       "[(0,\n",
       "  '0.703*\"trees\" + 0.538*\"graph\" + 0.402*\"minors\" + 0.187*\"survey\" + 0.061*\"system\" + 0.060*\"time\" + 0.060*\"response\" + 0.058*\"user\" + 0.049*\"computer\" + 0.035*\"interface\"'),\n",
       " (1,\n",
       "  '-0.460*\"system\" + -0.373*\"user\" + -0.332*\"eps\" + -0.328*\"interface\" + -0.320*\"time\" + -0.320*\"response\" + -0.293*\"computer\" + -0.280*\"human\" + -0.171*\"survey\" + 0.161*\"trees\"')]"
      ]
     },
     "execution_count": 6,
     "metadata": {},
     "output_type": "execute_result"
    }
   ],
   "source": [
    "#运行LSI, 以TFIDF表达为输入，2个话题\n",
    "lsi_model = models.LsiModel(corpus_tfidf, id2word=dictionary, num_topics=2)  # 初始化LSI模型参数, K=2\n",
    "corpus_lsi = lsi_model[corpus_tfidf]  #基于corpus_tfidf训练LSI模型\n",
    "\n",
    "#打印出学习到的latent topic，一共两个\n",
    "lsi_model.print_topics(2)"
   ]
  },
  {
   "cell_type": "code",
   "execution_count": 7,
   "metadata": {},
   "outputs": [
    {
     "name": "stdout",
     "output_type": "stream",
     "text": [
      "[(0, 0.0660078339609013), (1, -0.5200703306361856)] Human machine interface for lab abc computer applications\n",
      "[(0, 0.19667592859142244), (1, -0.7609563167700053)] A survey of user opinion of computer system response time\n",
      "[(0, 0.08992639972446148), (1, -0.7241860626752515)] The EPS user interface management system\n",
      "[(0, 0.07585847652177895), (1, -0.6320551586003436)] System and human system engineering testing of EPS\n",
      "[(0, 0.10150299184979919), (1, -0.5737308483002957)] Relation of user perceived response time to error measurement\n",
      "[(0, 0.7032108939378316), (1, 0.1611518021402551)] The generation of random binary unordered trees\n",
      "[(0, 0.8774787673119839), (1, 0.16758906864659073)] The intersection graph of paths in trees\n",
      "[(0, 0.9098624686818587), (1, 0.1408655362871869)] Graph minors IV Widths of trees and well quasi ordering\n",
      "[(0, 0.6165825350569285), (1, -0.053929075663895716)] Graph minors A survey\n"
     ]
    }
   ],
   "source": [
    "# 打印文档的topic表达，每一个文档表示成2维的topic向量\n",
    "for doc, as_text in zip(corpus_lsi, documents):\n",
    "    print(doc, as_text)"
   ]
  },
  {
   "cell_type": "code",
   "execution_count": 8,
   "metadata": {},
   "outputs": [
    {
     "name": "stdout",
     "output_type": "stream",
     "text": [
      "<gensim.models.nmf.Nmf object at 0x7fa5c5a1b670>\n"
     ]
    },
    {
     "data": {
      "text/plain": [
       "[(0,\n",
       "  '0.205*\"5\" + 0.191*\"8\" + 0.157*\"7\" + 0.137*\"2\" + 0.085*\"3\" + 0.085*\"6\" + 0.076*\"1\" + 0.041*\"9\" + 0.023*\"0\" + 0.000*\"10\"'),\n",
       " (1,\n",
       "  '0.216*\"11\" + 0.183*\"10\" + 0.149*\"4\" + 0.134*\"0\" + 0.099*\"9\" + 0.078*\"1\" + 0.075*\"2\" + 0.029*\"6\" + 0.029*\"3\" + 0.008*\"7\"')]"
      ]
     },
     "execution_count": 8,
     "metadata": {},
     "output_type": "execute_result"
    }
   ],
   "source": [
    "\n",
    "from gensim.models import nmf\n",
    "corpus_nmf = nmf.Nmf(corpus_tfidf, num_topics=2)\n",
    "print(corpus_nmf)\n",
    "corpus_nmf.print_topics(2)"
   ]
  },
  {
   "cell_type": "code",
   "execution_count": 9,
   "metadata": {},
   "outputs": [
    {
     "name": "stdout",
     "output_type": "stream",
     "text": [
      "[(0, 0.11679245615549401), (1, 0.883207543844506)]\n",
      "[(0, 0.6320229562765965), (1, 0.3679770437234034)]\n"
     ]
    }
   ],
   "source": [
    "print(corpus_nmf.get_term_topics(word_id=0))#得到某一个词的topic表达，输入为词id\n",
    "\n",
    "print(corpus_nmf.get_document_topics([(0, 1), (1, 1), (2, 1)])) #得到文档的topic表示，输入为文档的bag of words表达"
   ]
  },
  {
   "cell_type": "code",
   "execution_count": 10,
   "metadata": {},
   "outputs": [
    {
     "name": "stdout",
     "output_type": "stream",
     "text": [
      "[['human', 'interface', 'computer'], ['survey', 'user', 'computer', 'system', 'response', 'time'], ['eps', 'user', 'interface', 'system'], ['system', 'human', 'system', 'eps'], ['user', 'response', 'time'], ['trees'], ['graph', 'trees'], ['graph', 'minors', 'trees'], ['graph', 'minors', 'survey']]\n",
      "Word2Vec<vocab=12, vector_size=2, alpha=0.025>\n"
     ]
    }
   ],
   "source": [
    "# 基于texts数据集合训练一个word2vec模型, 隐维度为2\n",
    "import gensim\n",
    "print(texts)\n",
    "w2v = gensim.models.Word2Vec(texts, min_count=1, vector_size= 2)\n",
    "print(w2v)"
   ]
  },
  {
   "cell_type": "code",
   "execution_count": 12,
   "metadata": {},
   "outputs": [
    {
     "name": "stdout",
     "output_type": "stream",
     "text": [
      "system : [-0.02681136  0.01182151]\n",
      "graph : [0.25516748 0.45046365]\n",
      "trees : [-0.4651475  -0.35584044]\n",
      "user : [0.32290065 0.44859102]\n",
      "minors : [-0.2507714  -0.18816864]\n",
      "eps : [ 0.36902523 -0.07667363]\n",
      "time : [-0.22683072  0.32770252]\n",
      "response : [-0.24300753 -0.09080752]\n",
      "survey : [0.14382899 0.04959369]\n",
      "computer : [-0.41438133 -0.47257847]\n",
      "interface : [0.3655466 0.2534694]\n",
      "human : [0.33788466 0.03814328]\n"
     ]
    }
   ],
   "source": [
    "#查询词向量\n",
    "\n",
    "for i, word in enumerate(w2v.wv.key_to_index):\n",
    "    if i == 20:\n",
    "        break\n",
    "    print(word, \":\", w2v.wv[word])"
   ]
  },
  {
   "cell_type": "code",
   "execution_count": 13,
   "metadata": {},
   "outputs": [
    {
     "name": "stdout",
     "output_type": "stream",
     "text": [
      "'human'\t'computer'\t-0.74\n",
      "'interface'\t'computer'\t-0.97\n"
     ]
    }
   ],
   "source": [
    "# 计算两个词的相似度\n",
    "pairs = [\n",
    "    ('human', 'computer'),   \n",
    "    ('interface', 'computer'),  \n",
    "]\n",
    "for w1, w2 in pairs:\n",
    "    print('%r\\t%r\\t%.2f' % (w1, w2, w2v.wv.similarity(w1, w2)))"
   ]
  },
  {
   "cell_type": "code",
   "execution_count": null,
   "metadata": {},
   "outputs": [],
   "source": [
    "\n"
   ]
  }
 ],
 "metadata": {
  "kernelspec": {
   "display_name": "Python 3",
   "language": "python",
   "name": "python3"
  },
  "language_info": {
   "codemirror_mode": {
    "name": "ipython",
    "version": 3
   },
   "file_extension": ".py",
   "mimetype": "text/x-python",
   "name": "python",
   "nbconvert_exporter": "python",
   "pygments_lexer": "ipython3",
   "version": "3.8.8"
  }
 },
 "nbformat": 4,
 "nbformat_minor": 2
}
