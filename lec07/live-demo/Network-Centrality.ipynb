{
 "cells": [
  {
   "cell_type": "code",
   "execution_count": null,
   "metadata": {},
   "outputs": [],
   "source": [
    "import networkx as nx\n",
    "import matplotlib.pyplot as plt\n",
    "import matplotlib.colors as mcolors"
   ]
  },
  {
   "cell_type": "code",
   "execution_count": null,
   "metadata": {},
   "outputs": [],
   "source": [
    "#students = set(range(11))\n",
    "G = nx.Graph()\n",
    "G.name = \"Simple Dating Graph\"\n",
    "#G.add_nodes_from(students)\n",
    "dating_rel = [\n",
    "    (0,3), (1,3), (2,3), (3,4),\n",
    "    (4,5), (4,9), (5,6), (6,7),\n",
    "    (6,8), (6,9), (9,10)\n",
    "]\n",
    "G.add_edges_from(dating_rel)"
   ]
  },
  {
   "cell_type": "code",
   "execution_count": null,
   "metadata": {},
   "outputs": [],
   "source": [
    "pos = {0: [0.1, 0.6], 1: [0.1, 0.5], 2: [0.1, 0.4], \n",
    "       3: [0.2, 0.5], 4: [0.3, 0.5], 5: [0.45, 0.7], \n",
    "       6: [0.6, 0.5], 7: [0.7, 0.6], 8: [0.7, 0.4], \n",
    "       9: [0.45, 0.3], 10: [0.45, 0.2]}\n",
    "nodes = nx.draw_networkx_nodes(G, pos, node_size=400,\n",
    "                               node_color='yellow')\n",
    "nx.draw_networkx_labels(G, pos)\n",
    "nx.draw_networkx_edges(G, pos)\n",
    "plt.title(G.name)\n",
    "plt.axis('off')\n",
    "plt.show()"
   ]
  },
  {
   "cell_type": "code",
   "execution_count": null,
   "metadata": {},
   "outputs": [],
   "source": [
    "def draw(G, pos, measures, measure_name):\n",
    "    nodes = nx.draw_networkx_nodes(G, pos, node_size=400, \n",
    "                                   cmap=plt.cm.plasma,\n",
    "                                   node_color=list(measures.values()),\n",
    "                                   nodelist=list(measures.keys()))\n",
    "    nodes.set_norm(mcolors.SymLogNorm(linthresh=0.01, linscale=1))\n",
    "\n",
    "\n",
    "    nx.draw_networkx_labels(G, pos)\n",
    "    nx.draw_networkx_edges(G, pos)\n",
    "\n",
    "    plt.title(measure_name)\n",
    "    plt.colorbar(nodes)\n",
    "    plt.axis('off')\n",
    "    plt.show()\n",
    "\n",
    "print ('Degree Centrality')\n",
    "print(nx.degree_centrality(G))\n",
    "draw(G, pos, nx.degree_centrality(G), 'Degree Centrality')"
   ]
  },
  {
   "cell_type": "code",
   "execution_count": null,
   "metadata": {},
   "outputs": [],
   "source": [
    "print ('Closeness Centrality')\n",
    "print (nx.closeness_centrality(G))\n",
    "draw(G, pos, nx.closeness_centrality(G), 'Closeness Centrality')"
   ]
  },
  {
   "cell_type": "code",
   "execution_count": null,
   "metadata": {},
   "outputs": [],
   "source": [
    "print ('Betweenness Centrality')\n",
    "print (nx.betweenness_centrality(G))\n",
    "draw(G, pos, nx.betweenness_centrality(G), 'Betweenness Centrality')"
   ]
  },
  {
   "cell_type": "code",
   "execution_count": null,
   "metadata": {},
   "outputs": [],
   "source": [
    "from collections import Counter\n",
    "\n",
    "def degree_histogram (G):\n",
    "    deg = nx.degree_centrality(G)\n",
    "    deg_raw = {k: int(v * (len(G) - 1)) for k, v in deg.items()}\n",
    "    deg_hist = dict(Counter(deg_raw.values()))\n",
    "    deg_hist_1 = sorted(deg_hist.items(), key=lambda d: d[0])\n",
    "\n",
    "    print (deg_hist_1)\n",
    "\n",
    "    #plt.xscale('log')\n",
    "    #plt.yscale('log')\n",
    "    plt.scatter(deg_hist.keys(), deg_hist.values(), c='b', marker='x')\n",
    "    plt.xlim((0, 20))\n",
    "    plt.ylim((0, 20))\n",
    "    plt.xlabel('Degree')\n",
    "    plt.ylabel('Frequency')\n",
    "\n",
    "    plt.show()"
   ]
  },
  {
   "cell_type": "code",
   "execution_count": null,
   "metadata": {},
   "outputs": [],
   "source": [
    "degree_histogram(G)"
   ]
  },
  {
   "cell_type": "code",
   "execution_count": null,
   "metadata": {},
   "outputs": [],
   "source": []
  }
 ],
 "metadata": {
  "kernelspec": {
   "display_name": "Python 3",
   "language": "python",
   "name": "python3"
  },
  "language_info": {
   "codemirror_mode": {
    "name": "ipython",
    "version": 3
   },
   "file_extension": ".py",
   "mimetype": "text/x-python",
   "name": "python",
   "nbconvert_exporter": "python",
   "pygments_lexer": "ipython3",
   "version": "3.8.8"
  }
 },
 "nbformat": 4,
 "nbformat_minor": 4
}
