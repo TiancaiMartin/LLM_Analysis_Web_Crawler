{
 "cells": [
  {
   "cell_type": "code",
   "execution_count": null,
   "metadata": {},
   "outputs": [],
   "source": [
    "import re\n",
    "import os\n"
   ]
  },
  {
   "cell_type": "code",
   "execution_count": null,
   "metadata": {},
   "outputs": [],
   "source": [
    "with open('./疫情通报十则.md','r') as f:\n",
    "    tongbao=f.read()\n",
    "\n",
    "tongbao"
   ]
  },
  {
   "cell_type": "markdown",
   "metadata": {},
   "source": [
    "# 爬取关键信息：\n",
    "- 日期\n",
    "- 新增确诊病xx例\n",
    "- 当日新增境外输入病xx例\n",
    "\n",
    "累计统计：\n",
    "- 累计出院病例xx例\n",
    "- 累计死亡病例xx例\n",
    "- 累计报告确诊病例xx例\n",
    "- 累计追踪到密切接触者xx人\n",
    "- 当日新增治愈出院病例xx例\n",
    "- 现有疑似病例xx例\n",
    "- 累计追踪到密切接触者xxx人\n",
    "- 尚在医学观察的密切接触者xx人"
   ]
  },
  {
   "cell_type": "markdown",
   "metadata": {},
   "source": [
    "步骤：\n",
    "- 找到字符串位置\n",
    "- 提取字符串结构(*highlight:注意中英文的标点符号！*)\n",
    "- 修改为正则表达式\n",
    "- 使用合适的函数和加flag\n",
    "- 分组"
   ]
  },
  {
   "cell_type": "code",
   "execution_count": null,
   "metadata": {},
   "outputs": [],
   "source": [
    "\n",
    "# 观察字符串，找到位置\n",
    "\n",
    "# 新增确诊病例313例。其中境外输入病例64例\n",
    "\n",
    "# 现有确诊病例4456例（其中重症病例16例），累计治愈出院病例245486例，累计死亡病例5226例，累计报告确诊病例255168例，无现有疑似病例。累计追踪到密切接触者6606769人，尚在医学观察的密切接触者395576人。\n",
    "\n",
    "# 现有确诊病例2997例（其中重症病例41例），累计治愈出院病例242070例，累计死亡病例5226例，累计报告确诊病例250293例，无现有疑似病例。累计追踪到密切接触者5993958人，尚在医学观察的密切接触者155222人。\n",
    "\n",
    "re.findall(pattern='【截至(\\d+月\\d+日)24时.*?新增确诊病例(\\d+)例。其中境外输入病例(\\d+)例',string=tongbao,flags=re.S)\n",
    "re.findall(pattern='现有确诊病例(\\d+)例（其中重症病例(\\d+)例），累计治愈出院病例(\\d+)例，累计死亡病例(\\d+)例，累计报告确诊病例(\\d+)例，现有疑似病例(\\d+)例。累计追踪到密切接触者(\\d+)人，尚在医学观察的密切接触者(\\d+)人。',string=tongbao,flags=re.S)\n",
    "\n",
    "# what happened?\n"
   ]
  },
  {
   "cell_type": "markdown",
   "metadata": {},
   "source": [
    " `[\\u3002\\uff1b\\uff0c\\uff1a\\u201c\\u201d\\uff08\\uff09\\u3001\\uff1f\\u300a\\u300b] `该表达式可以识别出： 。 ； ， ： “ ”（ ） 、 ？ 《 》 这些标点符号。\n",
    "\n",
    "`\\w`匹配的仅仅是中文，数字，字母\n",
    "\n",
    "匹配中文字符的正则表达式： `[\\u4e00-\\u9fa5]`\n",
    "\n",
    "匹配双字节字符(包括汉字在内)：`[^\\x00-\\xff]`"
   ]
  },
  {
   "cell_type": "markdown",
   "metadata": {},
   "source": [
    "- “现有疑似病例”可能有，可能没有。"
   ]
  },
  {
   "cell_type": "code",
   "execution_count": null,
   "metadata": {},
   "outputs": [],
   "source": [
    "\n",
    "# 把英文标点符号全都转为中文括号\n",
    "tongbao=tongbao.replace('(','（')\n",
    "tongbao=tongbao.replace(')','）')\n",
    "\n",
    "re.findall(pattern='现有确诊病例(\\d+)例（其中重症病例(\\d+)例），累计治愈出院病例(\\d+)例，累计死亡病例(\\d+)例，累计报告确诊病例(\\d+)例，(无)?现有疑似病例(\\d+例)?。累计追踪到密切接触者(\\d+)人，尚在医学观察的密切接触者(\\d+)人。',string=tongbao,flags=re.S)\n",
    "\n",
    "# 用【组】将数据提取出来\n"
   ]
  },
  {
   "cell_type": "markdown",
   "metadata": {},
   "source": [
    "# GB格式引文目录解析\n",
    "\n",
    "引文目录，结构清晰的数据。"
   ]
  },
  {
   "cell_type": "markdown",
   "metadata": {},
   "source": [
    " ## 这次来使用`pd.Series.str.extract()`完成提取"
   ]
  },
  {
   "cell_type": "code",
   "execution_count": null,
   "metadata": {},
   "outputs": [],
   "source": [
    "import pandas as pd\n",
    "\n",
    "\n",
    "data=pd.read_table('./GB格式引文目录.md',sep='\\n',header=None)\n",
    "data"
   ]
  },
  {
   "cell_type": "markdown",
   "metadata": {},
   "source": [
    "提取数据：\n",
    "- 作者\n",
    "- 文章名\n",
    "- 文献类型\n",
    "- 文章来源\n",
    "- 发表年限"
   ]
  },
  {
   "cell_type": "code",
   "execution_count": null,
   "metadata": {},
   "outputs": [],
   "source": [
    "data[0][0]"
   ]
  },
  {
   "cell_type": "markdown",
   "metadata": {},
   "source": [
    "## Highligts:\n",
    "- 对转义字符的使用\n",
    "- 正则语法：\n",
    "  - `{m}`\n",
    "  - `.`\n",
    "  - `.*?`不贪心匹配\n",
    "  - `.*`贪心匹配\n",
    "  - unicode字符匹配"
   ]
  },
  {
   "cell_type": "code",
   "execution_count": null,
   "metadata": {},
   "outputs": [],
   "source": [
    "exper=re.compile(pattern='([,\\s\\u4e00-\\u9fa5]+)\\.([^\\.]*?)\\[(.*?)\\]\\.([,\\s\\u4e00-\\u9fa5\\(\\)]+),.?(\\d{4})')\n",
    "exper.findall(data[0][2])"
   ]
  },
  {
   "cell_type": "code",
   "execution_count": null,
   "metadata": {},
   "outputs": [],
   "source": [
    "data[0].str.extract(exper)"
   ]
  },
  {
   "cell_type": "markdown",
   "metadata": {},
   "source": [
    "## 为数据分组命名"
   ]
  },
  {
   "cell_type": "code",
   "execution_count": null,
   "metadata": {},
   "outputs": [],
   "source": [
    "exper=re.compile(pattern='(?P<作者>[,\\s\\u4e00-\\u9fa5]+)\\.(?P<标题>[^\\.]*?)\\[(?P<文献类型>.*?)\\]\\.(?P<文献来源>[,\\s\\u4e00-\\u9fa5\\(\\)]+), (?P<年份>\\d{4})')\n",
    "data[0].str.extract(exper)"
   ]
  },
  {
   "cell_type": "code",
   "execution_count": null,
   "metadata": {},
   "outputs": [],
   "source": []
  }
 ],
 "metadata": {
  "interpreter": {
   "hash": "20f4e64a41b7815811669500ca2d7501e9094364f36facb42a5e1faf269269fc"
  },
  "kernelspec": {
   "display_name": "Python 3 (ipykernel)",
   "language": "python",
   "name": "python3"
  },
  "language_info": {
   "codemirror_mode": {
    "name": "ipython",
    "version": 3
   },
   "file_extension": ".py",
   "mimetype": "text/x-python",
   "name": "python",
   "nbconvert_exporter": "python",
   "pygments_lexer": "ipython3",
   "version": "3.9.7"
  }
 },
 "nbformat": 4,
 "nbformat_minor": 4
}
