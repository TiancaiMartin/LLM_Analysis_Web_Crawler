{
 "cells": [
  {
   "cell_type": "code",
   "execution_count": 1,
   "metadata": {},
   "outputs": [],
   "source": [
    "import numpy as np\n",
    "import matplotlib.pyplot as plt\n",
    "import pandas as pd\n",
    "import seaborn as sns\n",
    "%matplotlib inline"
   ]
  },
  {
   "cell_type": "markdown",
   "metadata": {},
   "source": [
    "#### 第一步：数据获取\n",
    "The city of Berkeley maintains an [Open Data Portal](https://data.cityofberkeley.info/) for citizens to access data about the city.  We will be examining [Call Data](https://data.cityofberkeley.info/Public-Safety/Berkeley-PD-Calls-for-Service/k2nh-s5h5).\n",
    "\n",
    "<img src=\"data/calls_desc.png\" width=800px />"
   ]
  },
  {
   "cell_type": "markdown",
   "metadata": {},
   "source": [
    "将数据抓取功能封装到`ds100_utils.py`"
   ]
  },
  {
   "cell_type": "code",
   "execution_count": 5,
   "metadata": {},
   "outputs": [
    {
     "name": "stdout",
     "output_type": "stream",
     "text": [
      "Using cached version that was downloaded (UTC): Fri Oct 21 15:33:26 2022\n"
     ]
    },
    {
     "data": {
      "text/html": [
       "<div>\n",
       "<style scoped>\n",
       "    .dataframe tbody tr th:only-of-type {\n",
       "        vertical-align: middle;\n",
       "    }\n",
       "\n",
       "    .dataframe tbody tr th {\n",
       "        vertical-align: top;\n",
       "    }\n",
       "\n",
       "    .dataframe thead th {\n",
       "        text-align: right;\n",
       "    }\n",
       "</style>\n",
       "<table border=\"1\" class=\"dataframe\">\n",
       "  <thead>\n",
       "    <tr style=\"text-align: right;\">\n",
       "      <th></th>\n",
       "      <th>CASENO</th>\n",
       "      <th>OFFENSE</th>\n",
       "      <th>EVENTDT</th>\n",
       "      <th>EVENTTM</th>\n",
       "      <th>CVLEGEND</th>\n",
       "      <th>CVDOW</th>\n",
       "      <th>InDbDate</th>\n",
       "      <th>Block_Location</th>\n",
       "      <th>BLKADDR</th>\n",
       "      <th>City</th>\n",
       "      <th>State</th>\n",
       "      <th>Council Districts_uniq_prepend</th>\n",
       "      <th>Council Districts_from_hg3u_n7v4</th>\n",
       "      <th>Council Districts_from_c8zs_8y7x</th>\n",
       "      <th>Zip Codes</th>\n",
       "      <th>Police Beats</th>\n",
       "      <th>Census Tracts</th>\n",
       "      <th>Council Districts</th>\n",
       "    </tr>\n",
       "  </thead>\n",
       "  <tbody>\n",
       "    <tr>\n",
       "      <th>0</th>\n",
       "      <td>18092358</td>\n",
       "      <td>THEFT MISD. (UNDER $950)</td>\n",
       "      <td>12/19/2018 12:00:00 AM</td>\n",
       "      <td>09:30</td>\n",
       "      <td>LARCENY</td>\n",
       "      <td>3</td>\n",
       "      <td>06/18/2019 10:28:09 AM</td>\n",
       "      <td>2000 FOURTH ST\\nBerkeley, CA\\n(37.867613, -122...</td>\n",
       "      <td>2000 FOURTH ST</td>\n",
       "      <td>Berkeley</td>\n",
       "      <td>CA</td>\n",
       "      <td>7.0</td>\n",
       "      <td>1716.0</td>\n",
       "      <td>7.0</td>\n",
       "      <td>1502.0</td>\n",
       "      <td>6.0</td>\n",
       "      <td>11.0</td>\n",
       "      <td>5.0</td>\n",
       "    </tr>\n",
       "    <tr>\n",
       "      <th>1</th>\n",
       "      <td>19000172</td>\n",
       "      <td>BURGLARY RESIDENTIAL</td>\n",
       "      <td>12/19/2018 12:00:00 AM</td>\n",
       "      <td>00:01</td>\n",
       "      <td>BURGLARY - RESIDENTIAL</td>\n",
       "      <td>3</td>\n",
       "      <td>06/18/2019 10:28:09 AM</td>\n",
       "      <td>1200 EVELYN AVE\\nBerkeley, CA\\n(37.883153, -12...</td>\n",
       "      <td>1200 EVELYN AVE</td>\n",
       "      <td>Berkeley</td>\n",
       "      <td>CA</td>\n",
       "      <td>NaN</td>\n",
       "      <td>NaN</td>\n",
       "      <td>NaN</td>\n",
       "      <td>1498.0</td>\n",
       "      <td>NaN</td>\n",
       "      <td>NaN</td>\n",
       "      <td>NaN</td>\n",
       "    </tr>\n",
       "    <tr>\n",
       "      <th>2</th>\n",
       "      <td>18069978</td>\n",
       "      <td>BURGLARY AUTO</td>\n",
       "      <td>12/19/2018 12:00:00 AM</td>\n",
       "      <td>08:07</td>\n",
       "      <td>BURGLARY - VEHICLE</td>\n",
       "      <td>3</td>\n",
       "      <td>06/18/2019 10:28:09 AM</td>\n",
       "      <td>2900 SAN PABLO AVE\\nBerkeley, CA\\n(37.853576, ...</td>\n",
       "      <td>2900 SAN PABLO AVE</td>\n",
       "      <td>Berkeley</td>\n",
       "      <td>CA</td>\n",
       "      <td>8.0</td>\n",
       "      <td>933.0</td>\n",
       "      <td>8.0</td>\n",
       "      <td>1494.0</td>\n",
       "      <td>5.0</td>\n",
       "      <td>16.0</td>\n",
       "      <td>8.0</td>\n",
       "    </tr>\n",
       "    <tr>\n",
       "      <th>3</th>\n",
       "      <td>18070016</td>\n",
       "      <td>THEFT MISD. (UNDER $950)</td>\n",
       "      <td>12/19/2018 12:00:00 AM</td>\n",
       "      <td>00:00</td>\n",
       "      <td>LARCENY</td>\n",
       "      <td>3</td>\n",
       "      <td>06/18/2019 10:28:09 AM</td>\n",
       "      <td>GRAYSON STREET &amp; 7TH ST\\nBerkeley, CA\\n(37.855...</td>\n",
       "      <td>GRAYSON STREET &amp; 7TH ST</td>\n",
       "      <td>Berkeley</td>\n",
       "      <td>CA</td>\n",
       "      <td>8.0</td>\n",
       "      <td>10.0</td>\n",
       "      <td>8.0</td>\n",
       "      <td>1502.0</td>\n",
       "      <td>5.0</td>\n",
       "      <td>11.0</td>\n",
       "      <td>8.0</td>\n",
       "    </tr>\n",
       "    <tr>\n",
       "      <th>4</th>\n",
       "      <td>18070047</td>\n",
       "      <td>THEFT MISD. (UNDER $950)</td>\n",
       "      <td>12/19/2018 12:00:00 AM</td>\n",
       "      <td>16:08</td>\n",
       "      <td>LARCENY</td>\n",
       "      <td>3</td>\n",
       "      <td>06/18/2019 10:28:09 AM</td>\n",
       "      <td>2200 SHATTUCK AVE\\nBerkeley, CA\\n(37.869363, -...</td>\n",
       "      <td>2200 SHATTUCK AVE</td>\n",
       "      <td>Berkeley</td>\n",
       "      <td>CA</td>\n",
       "      <td>1.0</td>\n",
       "      <td>613.0</td>\n",
       "      <td>1.0</td>\n",
       "      <td>1496.0</td>\n",
       "      <td>11.0</td>\n",
       "      <td>32.0</td>\n",
       "      <td>1.0</td>\n",
       "    </tr>\n",
       "  </tbody>\n",
       "</table>\n",
       "</div>"
      ],
      "text/plain": [
       "     CASENO                   OFFENSE                 EVENTDT EVENTTM  \\\n",
       "0  18092358  THEFT MISD. (UNDER $950)  12/19/2018 12:00:00 AM   09:30   \n",
       "1  19000172      BURGLARY RESIDENTIAL  12/19/2018 12:00:00 AM   00:01   \n",
       "2  18069978             BURGLARY AUTO  12/19/2018 12:00:00 AM   08:07   \n",
       "3  18070016  THEFT MISD. (UNDER $950)  12/19/2018 12:00:00 AM   00:00   \n",
       "4  18070047  THEFT MISD. (UNDER $950)  12/19/2018 12:00:00 AM   16:08   \n",
       "\n",
       "                 CVLEGEND  CVDOW                InDbDate  \\\n",
       "0                 LARCENY      3  06/18/2019 10:28:09 AM   \n",
       "1  BURGLARY - RESIDENTIAL      3  06/18/2019 10:28:09 AM   \n",
       "2      BURGLARY - VEHICLE      3  06/18/2019 10:28:09 AM   \n",
       "3                 LARCENY      3  06/18/2019 10:28:09 AM   \n",
       "4                 LARCENY      3  06/18/2019 10:28:09 AM   \n",
       "\n",
       "                                      Block_Location                  BLKADDR  \\\n",
       "0  2000 FOURTH ST\\nBerkeley, CA\\n(37.867613, -122...           2000 FOURTH ST   \n",
       "1  1200 EVELYN AVE\\nBerkeley, CA\\n(37.883153, -12...          1200 EVELYN AVE   \n",
       "2  2900 SAN PABLO AVE\\nBerkeley, CA\\n(37.853576, ...       2900 SAN PABLO AVE   \n",
       "3  GRAYSON STREET & 7TH ST\\nBerkeley, CA\\n(37.855...  GRAYSON STREET & 7TH ST   \n",
       "4  2200 SHATTUCK AVE\\nBerkeley, CA\\n(37.869363, -...        2200 SHATTUCK AVE   \n",
       "\n",
       "       City State  Council Districts_uniq_prepend  \\\n",
       "0  Berkeley    CA                             7.0   \n",
       "1  Berkeley    CA                             NaN   \n",
       "2  Berkeley    CA                             8.0   \n",
       "3  Berkeley    CA                             8.0   \n",
       "4  Berkeley    CA                             1.0   \n",
       "\n",
       "   Council Districts_from_hg3u_n7v4  Council Districts_from_c8zs_8y7x  \\\n",
       "0                            1716.0                               7.0   \n",
       "1                               NaN                               NaN   \n",
       "2                             933.0                               8.0   \n",
       "3                              10.0                               8.0   \n",
       "4                             613.0                               1.0   \n",
       "\n",
       "   Zip Codes  Police Beats  Census Tracts  Council Districts  \n",
       "0     1502.0           6.0           11.0                5.0  \n",
       "1     1498.0           NaN            NaN                NaN  \n",
       "2     1494.0           5.0           16.0                8.0  \n",
       "3     1502.0           5.0           11.0                8.0  \n",
       "4     1496.0          11.0           32.0                1.0  "
      ]
     },
     "execution_count": 5,
     "metadata": {},
     "output_type": "execute_result"
    }
   ],
   "source": [
    "import ds100_utils\n",
    "\n",
    "calls_url = 'https://data.cityofberkeley.info/api/views/k2nh-s5h5/rows.csv?accessType=DOWNLOAD'\n",
    "calls_file = ds100_utils.fetch_and_cache(calls_url, '/Users/tiancaixiaohuoban/Desktop/高礼/互联网与文本分析/lec02/asg02/data/calls.csv')\n",
    "calls = pd.read_csv(calls_file, warn_bad_lines=True)\n",
    "calls.head()"
   ]
  },
  {
   "cell_type": "code",
   "execution_count": 6,
   "metadata": {},
   "outputs": [
    {
     "data": {
      "text/plain": [
       "4433"
      ]
     },
     "execution_count": 6,
     "metadata": {},
     "output_type": "execute_result"
    }
   ],
   "source": [
    "len(calls)"
   ]
  },
  {
   "cell_type": "code",
   "execution_count": 50,
   "metadata": {},
   "outputs": [
    {
     "name": "stdout",
     "output_type": "stream",
     "text": [
      "2000 FOURTH ST\n",
      "Berkeley, CA\n",
      "(37.867613, -122.299898)\n"
     ]
    }
   ],
   "source": [
    "print(calls['Block_Location'].iloc[0])"
   ]
  },
  {
   "cell_type": "markdown",
   "metadata": {},
   "source": [
    "#### 针对数据进行简单观察"
   ]
  },
  {
   "cell_type": "markdown",
   "metadata": {},
   "source": [
    "1. `EVENTDT` -- Contains the incorrect time\n",
    "1. `EVENTTM` -- Contains the time in 24 hour format (What timezone?)\n",
    "1. `CVDOW` -- Encodes the day of the week (see data documentation).\n",
    "1. `InDbDate` -- Appears to be correctly formatted and appears pretty consistent in time.\n",
    "1. **`Block_Location` -- a multi-line string that contains coordinates.**\n",
    "1. `BLKADDR` -- Appears to be the address in `Block Location`.\n",
    "1. `City` and `State` seem redundant given this is supposed to be the city of Berkeley dataset."
   ]
  },
  {
   "cell_type": "markdown",
   "metadata": {},
   "source": [
    "#### 问题1：抽取地点信息\n",
    "地点信息包括经纬度，如何进行抽取？\n",
    "* 观察数据，发现哪些属性可以提取经纬度\n",
    "* 创建新的DataFrame`calls_lat_lon`，包含两个新列`Lat`和`Lon`"
   ]
  },
  {
   "cell_type": "code",
   "execution_count": 49,
   "metadata": {},
   "outputs": [
    {
     "data": {
      "text/plain": [
       "'2000 FOURTH ST\\nBerkeley, CA\\n(37.867613, -122.299898)'"
      ]
     },
     "execution_count": 49,
     "metadata": {},
     "output_type": "execute_result"
    }
   ],
   "source": [
    "# 查看第一个`Block_Location`信息\n",
    "calls['Block_Location'].iloc[0]"
   ]
  },
  {
   "cell_type": "code",
   "execution_count": 52,
   "metadata": {},
   "outputs": [
    {
     "data": {
      "text/html": [
       "<div>\n",
       "<style scoped>\n",
       "    .dataframe tbody tr th:only-of-type {\n",
       "        vertical-align: middle;\n",
       "    }\n",
       "\n",
       "    .dataframe tbody tr th {\n",
       "        vertical-align: top;\n",
       "    }\n",
       "\n",
       "    .dataframe thead th {\n",
       "        text-align: right;\n",
       "    }\n",
       "</style>\n",
       "<table border=\"1\" class=\"dataframe\">\n",
       "  <thead>\n",
       "    <tr style=\"text-align: right;\">\n",
       "      <th></th>\n",
       "      <th>Lat</th>\n",
       "      <th>Lon</th>\n",
       "    </tr>\n",
       "  </thead>\n",
       "  <tbody>\n",
       "    <tr>\n",
       "      <th>0</th>\n",
       "      <td>37.867613</td>\n",
       "      <td>-122.299898</td>\n",
       "    </tr>\n",
       "    <tr>\n",
       "      <th>1</th>\n",
       "      <td>37.883153</td>\n",
       "      <td>-122.292104</td>\n",
       "    </tr>\n",
       "    <tr>\n",
       "      <th>2</th>\n",
       "      <td>37.853576</td>\n",
       "      <td>-122.287202</td>\n",
       "    </tr>\n",
       "    <tr>\n",
       "      <th>3</th>\n",
       "      <td>37.855294</td>\n",
       "      <td>-122.292475</td>\n",
       "    </tr>\n",
       "    <tr>\n",
       "      <th>4</th>\n",
       "      <td>37.869363</td>\n",
       "      <td>-122.268028</td>\n",
       "    </tr>\n",
       "    <tr>\n",
       "      <th>5</th>\n",
       "      <td>37.870054</td>\n",
       "      <td>-122.284263</td>\n",
       "    </tr>\n",
       "    <tr>\n",
       "      <th>6</th>\n",
       "      <td>37.869105</td>\n",
       "      <td>-122.270064</td>\n",
       "    </tr>\n",
       "    <tr>\n",
       "      <th>7</th>\n",
       "      <td>37.888199</td>\n",
       "      <td>-122.250826</td>\n",
       "    </tr>\n",
       "    <tr>\n",
       "      <th>8</th>\n",
       "      <td>37.871828</td>\n",
       "      <td>-122.270516</td>\n",
       "    </tr>\n",
       "    <tr>\n",
       "      <th>9</th>\n",
       "      <td>37.880667</td>\n",
       "      <td>-122.29489</td>\n",
       "    </tr>\n",
       "  </tbody>\n",
       "</table>\n",
       "</div>"
      ],
      "text/plain": [
       "         Lat          Lon\n",
       "0  37.867613  -122.299898\n",
       "1  37.883153  -122.292104\n",
       "2  37.853576  -122.287202\n",
       "3  37.855294  -122.292475\n",
       "4  37.869363  -122.268028\n",
       "5  37.870054  -122.284263\n",
       "6  37.869105  -122.270064\n",
       "7  37.888199  -122.250826\n",
       "8  37.871828  -122.270516\n",
       "9  37.880667   -122.29489"
      ]
     },
     "execution_count": 52,
     "metadata": {},
     "output_type": "execute_result"
    }
   ],
   "source": [
    "# 创建新的DataFrame变量`calls_lat_lon`，包含两个新列Lat和Lon\n",
    "calls_lat_lon=pd.DataFrame(columns=['Lat','Lon'])\n",
    "s=pd.Series(calls['Block_Location'])#为后面的文本提取做准备\n",
    "calls['Lat']=s.str.extract(r'\\(([a-z0-9]+\\.[a-z0-9]+),')\n",
    "calls['Lon']=s.str.extract(r', ([-a-z0-9]+.[a-z0-9]+)\\)')\n",
    "calls_lat_lon['Lat']=calls['Lat']\n",
    "calls_lat_lon['Lon']=calls['Lon']\n",
    "calls_lat_lon.head(10)"
   ]
  },
  {
   "cell_type": "markdown",
   "metadata": {},
   "source": [
    "#### 问题2：合并经纬度信息\n",
    "如何将已经抽取出的经纬度信息，合并到DataFrame变量`calls`中？"
   ]
  },
  {
   "cell_type": "code",
   "execution_count": 116,
   "metadata": {},
   "outputs": [
    {
     "name": "stdout",
     "output_type": "stream",
     "text": [
      "     Lat  Lon\n",
      "Lat  158  158\n",
      "Lon  158  158\n"
     ]
    }
   ],
   "source": [
    "# 观察数据，经纬度缺失的数据有哪些？\n",
    "m=0\n",
    "n=0\n",
    "nah=pd.DataFrame(index=['Lat','Lon'])\n",
    "calls_lat_lons=calls_lat_lons.fillna(0)\n",
    "for l in calls_lat_lons['Lat']:\n",
    "    if l == 0:\n",
    "        m+=1\n",
    "for l in calls_lat_lons['Lon']:\n",
    "    if l == 0:\n",
    "        n+=1\n",
    "nah['Lat']=m\n",
    "nah['Lon']=n\n",
    "print(nah)"
   ]
  },
  {
   "cell_type": "code",
   "execution_count": 72,
   "metadata": {},
   "outputs": [
    {
     "data": {
      "text/plain": [
       "20                       900 NORTHGATE AVE\\nBerkeley, CA\n",
       "103                    1600 SIXTY-THIRD ST\\nBerkeley, CA\n",
       "104               STANFORD AV & VALLEJO ST\\nBerkeley, CA\n",
       "151                        900 PARKSIDE DR\\nBerkeley, CA\n",
       "158    MARTIN LUTHER KING JR WAY &GRANT ST\\nBerkeley, CA\n",
       "187        CAMELIA STREET &RAILROAD TRACKS\\nBerkeley, CA\n",
       "196                 DOCK N &UNIVERSITY AVE\\nBerkeley, CA\n",
       "203                         1625 TRUMAN ST\\nBerkeley, CA\n",
       "207                         2100 VALLEY ST\\nBerkeley, CA\n",
       "336                        800 SHATTUCK SQ\\nBerkeley, CA\n",
       "Name: Block_Location, dtype: object"
      ]
     },
     "execution_count": 72,
     "metadata": {},
     "output_type": "execute_result"
    }
   ],
   "source": [
    "# 输出经纬度缺失的数据项的`Block_Location`属性（只需打印出前10个）\n",
    "calls=calls.fillna(0)#用0代表孔雀值\n",
    "calls_nah=calls[(calls.Lat== 0)|(calls.Lon == 0)]['Block_Location']\n",
    "calls_nah.head(10)"
   ]
  },
  {
   "cell_type": "code",
   "execution_count": 69,
   "metadata": {},
   "outputs": [
    {
     "data": {
      "text/html": [
       "<div>\n",
       "<style scoped>\n",
       "    .dataframe tbody tr th:only-of-type {\n",
       "        vertical-align: middle;\n",
       "    }\n",
       "\n",
       "    .dataframe tbody tr th {\n",
       "        vertical-align: top;\n",
       "    }\n",
       "\n",
       "    .dataframe thead th {\n",
       "        text-align: right;\n",
       "    }\n",
       "</style>\n",
       "<table border=\"1\" class=\"dataframe\">\n",
       "  <thead>\n",
       "    <tr style=\"text-align: right;\">\n",
       "      <th></th>\n",
       "      <th>CASENO</th>\n",
       "      <th>OFFENSE</th>\n",
       "      <th>EVENTDT</th>\n",
       "      <th>EVENTTM</th>\n",
       "      <th>CVLEGEND</th>\n",
       "      <th>CVDOW</th>\n",
       "      <th>InDbDate</th>\n",
       "      <th>Block_Location</th>\n",
       "      <th>BLKADDR</th>\n",
       "      <th>City</th>\n",
       "      <th>State</th>\n",
       "      <th>Council Districts_uniq_prepend</th>\n",
       "      <th>Council Districts_from_hg3u_n7v4</th>\n",
       "      <th>Council Districts_from_c8zs_8y7x</th>\n",
       "      <th>Zip Codes</th>\n",
       "      <th>Police Beats</th>\n",
       "      <th>Census Tracts</th>\n",
       "      <th>Council Districts</th>\n",
       "      <th>Lat</th>\n",
       "      <th>Lon</th>\n",
       "    </tr>\n",
       "  </thead>\n",
       "  <tbody>\n",
       "    <tr>\n",
       "      <th>0</th>\n",
       "      <td>18092358</td>\n",
       "      <td>THEFT MISD. (UNDER $950)</td>\n",
       "      <td>12/19/2018 12:00:00 AM</td>\n",
       "      <td>09:30</td>\n",
       "      <td>LARCENY</td>\n",
       "      <td>3</td>\n",
       "      <td>06/18/2019 10:28:09 AM</td>\n",
       "      <td>2000 FOURTH ST\\nBerkeley, CA\\n(37.867613, -122...</td>\n",
       "      <td>2000 FOURTH ST</td>\n",
       "      <td>Berkeley</td>\n",
       "      <td>CA</td>\n",
       "      <td>7.0</td>\n",
       "      <td>1716.0</td>\n",
       "      <td>7.0</td>\n",
       "      <td>1502.0</td>\n",
       "      <td>6.0</td>\n",
       "      <td>11.0</td>\n",
       "      <td>5.0</td>\n",
       "      <td>37.867613</td>\n",
       "      <td>-122.299898</td>\n",
       "    </tr>\n",
       "    <tr>\n",
       "      <th>1</th>\n",
       "      <td>19000172</td>\n",
       "      <td>BURGLARY RESIDENTIAL</td>\n",
       "      <td>12/19/2018 12:00:00 AM</td>\n",
       "      <td>00:01</td>\n",
       "      <td>BURGLARY - RESIDENTIAL</td>\n",
       "      <td>3</td>\n",
       "      <td>06/18/2019 10:28:09 AM</td>\n",
       "      <td>1200 EVELYN AVE\\nBerkeley, CA\\n(37.883153, -12...</td>\n",
       "      <td>1200 EVELYN AVE</td>\n",
       "      <td>Berkeley</td>\n",
       "      <td>CA</td>\n",
       "      <td>0.0</td>\n",
       "      <td>0.0</td>\n",
       "      <td>0.0</td>\n",
       "      <td>1498.0</td>\n",
       "      <td>0.0</td>\n",
       "      <td>0.0</td>\n",
       "      <td>0.0</td>\n",
       "      <td>37.883153</td>\n",
       "      <td>-122.292104</td>\n",
       "    </tr>\n",
       "    <tr>\n",
       "      <th>2</th>\n",
       "      <td>18069978</td>\n",
       "      <td>BURGLARY AUTO</td>\n",
       "      <td>12/19/2018 12:00:00 AM</td>\n",
       "      <td>08:07</td>\n",
       "      <td>BURGLARY - VEHICLE</td>\n",
       "      <td>3</td>\n",
       "      <td>06/18/2019 10:28:09 AM</td>\n",
       "      <td>2900 SAN PABLO AVE\\nBerkeley, CA\\n(37.853576, ...</td>\n",
       "      <td>2900 SAN PABLO AVE</td>\n",
       "      <td>Berkeley</td>\n",
       "      <td>CA</td>\n",
       "      <td>8.0</td>\n",
       "      <td>933.0</td>\n",
       "      <td>8.0</td>\n",
       "      <td>1494.0</td>\n",
       "      <td>5.0</td>\n",
       "      <td>16.0</td>\n",
       "      <td>8.0</td>\n",
       "      <td>37.853576</td>\n",
       "      <td>-122.287202</td>\n",
       "    </tr>\n",
       "    <tr>\n",
       "      <th>3</th>\n",
       "      <td>18070016</td>\n",
       "      <td>THEFT MISD. (UNDER $950)</td>\n",
       "      <td>12/19/2018 12:00:00 AM</td>\n",
       "      <td>00:00</td>\n",
       "      <td>LARCENY</td>\n",
       "      <td>3</td>\n",
       "      <td>06/18/2019 10:28:09 AM</td>\n",
       "      <td>GRAYSON STREET &amp; 7TH ST\\nBerkeley, CA\\n(37.855...</td>\n",
       "      <td>GRAYSON STREET &amp; 7TH ST</td>\n",
       "      <td>Berkeley</td>\n",
       "      <td>CA</td>\n",
       "      <td>8.0</td>\n",
       "      <td>10.0</td>\n",
       "      <td>8.0</td>\n",
       "      <td>1502.0</td>\n",
       "      <td>5.0</td>\n",
       "      <td>11.0</td>\n",
       "      <td>8.0</td>\n",
       "      <td>37.855294</td>\n",
       "      <td>-122.292475</td>\n",
       "    </tr>\n",
       "    <tr>\n",
       "      <th>4</th>\n",
       "      <td>18070047</td>\n",
       "      <td>THEFT MISD. (UNDER $950)</td>\n",
       "      <td>12/19/2018 12:00:00 AM</td>\n",
       "      <td>16:08</td>\n",
       "      <td>LARCENY</td>\n",
       "      <td>3</td>\n",
       "      <td>06/18/2019 10:28:09 AM</td>\n",
       "      <td>2200 SHATTUCK AVE\\nBerkeley, CA\\n(37.869363, -...</td>\n",
       "      <td>2200 SHATTUCK AVE</td>\n",
       "      <td>Berkeley</td>\n",
       "      <td>CA</td>\n",
       "      <td>1.0</td>\n",
       "      <td>613.0</td>\n",
       "      <td>1.0</td>\n",
       "      <td>1496.0</td>\n",
       "      <td>11.0</td>\n",
       "      <td>32.0</td>\n",
       "      <td>1.0</td>\n",
       "      <td>37.869363</td>\n",
       "      <td>-122.268028</td>\n",
       "    </tr>\n",
       "  </tbody>\n",
       "</table>\n",
       "</div>"
      ],
      "text/plain": [
       "     CASENO                   OFFENSE                 EVENTDT EVENTTM  \\\n",
       "0  18092358  THEFT MISD. (UNDER $950)  12/19/2018 12:00:00 AM   09:30   \n",
       "1  19000172      BURGLARY RESIDENTIAL  12/19/2018 12:00:00 AM   00:01   \n",
       "2  18069978             BURGLARY AUTO  12/19/2018 12:00:00 AM   08:07   \n",
       "3  18070016  THEFT MISD. (UNDER $950)  12/19/2018 12:00:00 AM   00:00   \n",
       "4  18070047  THEFT MISD. (UNDER $950)  12/19/2018 12:00:00 AM   16:08   \n",
       "\n",
       "                 CVLEGEND  CVDOW                InDbDate  \\\n",
       "0                 LARCENY      3  06/18/2019 10:28:09 AM   \n",
       "1  BURGLARY - RESIDENTIAL      3  06/18/2019 10:28:09 AM   \n",
       "2      BURGLARY - VEHICLE      3  06/18/2019 10:28:09 AM   \n",
       "3                 LARCENY      3  06/18/2019 10:28:09 AM   \n",
       "4                 LARCENY      3  06/18/2019 10:28:09 AM   \n",
       "\n",
       "                                      Block_Location                  BLKADDR  \\\n",
       "0  2000 FOURTH ST\\nBerkeley, CA\\n(37.867613, -122...           2000 FOURTH ST   \n",
       "1  1200 EVELYN AVE\\nBerkeley, CA\\n(37.883153, -12...          1200 EVELYN AVE   \n",
       "2  2900 SAN PABLO AVE\\nBerkeley, CA\\n(37.853576, ...       2900 SAN PABLO AVE   \n",
       "3  GRAYSON STREET & 7TH ST\\nBerkeley, CA\\n(37.855...  GRAYSON STREET & 7TH ST   \n",
       "4  2200 SHATTUCK AVE\\nBerkeley, CA\\n(37.869363, -...        2200 SHATTUCK AVE   \n",
       "\n",
       "       City State  Council Districts_uniq_prepend  \\\n",
       "0  Berkeley    CA                             7.0   \n",
       "1  Berkeley    CA                             0.0   \n",
       "2  Berkeley    CA                             8.0   \n",
       "3  Berkeley    CA                             8.0   \n",
       "4  Berkeley    CA                             1.0   \n",
       "\n",
       "   Council Districts_from_hg3u_n7v4  Council Districts_from_c8zs_8y7x  \\\n",
       "0                            1716.0                               7.0   \n",
       "1                               0.0                               0.0   \n",
       "2                             933.0                               8.0   \n",
       "3                              10.0                               8.0   \n",
       "4                             613.0                               1.0   \n",
       "\n",
       "   Zip Codes  Police Beats  Census Tracts  Council Districts        Lat  \\\n",
       "0     1502.0           6.0           11.0                5.0  37.867613   \n",
       "1     1498.0           0.0            0.0                0.0  37.883153   \n",
       "2     1494.0           5.0           16.0                8.0  37.853576   \n",
       "3     1502.0           5.0           11.0                8.0  37.855294   \n",
       "4     1496.0          11.0           32.0                1.0  37.869363   \n",
       "\n",
       "           Lon  \n",
       "0  -122.299898  \n",
       "1  -122.292104  \n",
       "2  -122.287202  \n",
       "3  -122.292475  \n",
       "4  -122.268028  "
      ]
     },
     "execution_count": 69,
     "metadata": {},
     "output_type": "execute_result"
    }
   ],
   "source": [
    "# 将经纬度信息合并到DataFrame变量`calls`中\n",
    "#该步骤在前面已完成\n",
    "calls.head()\n"
   ]
  },
  {
   "cell_type": "markdown",
   "metadata": {},
   "source": [
    "#### 问题3：对地点信息做探索式数据分析"
   ]
  },
  {
   "cell_type": "code",
   "execution_count": 106,
   "metadata": {},
   "outputs": [
    {
     "data": {
      "text/plain": [
       "<AxesSubplot:xlabel='count', ylabel='CVLEGEND'>"
      ]
     },
     "execution_count": 106,
     "metadata": {},
     "output_type": "execute_result"
    },
    {
     "data": {
      "image/png": "[encoded data removed]",
      "text/plain": [
       "<Figure size 432x288 with 1 Axes>"
      ]
     },
     "metadata": {
      "needs_background": "light"
     },
     "output_type": "display_data"
    }
   ],
   "source": [
    "# 输出经纬度缺失数据记录的`CVLEGEND`属性的分布图\n",
    "df=calls[(calls.Lat==0)|(calls.Lon==0)]\n",
    "df_order = df.CVLEGEND.value_counts().sort_values(ascending=True).index\n",
    "sns.countplot(y=\"CVLEGEND\",data=df,order=df_order,palette=sns.color_palette(\"Reds\",17))"
   ]
  },
  {
   "cell_type": "code",
   "execution_count": 109,
   "metadata": {},
   "outputs": [
    {
     "data": {
      "text/plain": [
       "<AxesSubplot:xlabel='count', ylabel='CVLEGEND'>"
      ]
     },
     "execution_count": 109,
     "metadata": {},
     "output_type": "execute_result"
    },
    {
     "data": {
      "image/png": "[encoded data removed]",
      "text/plain": [
       "<Figure size 432x288 with 1 Axes>"
      ]
     },
     "metadata": {
      "needs_background": "light"
     },
     "output_type": "display_data"
    }
   ],
   "source": [
    "# 输出所有数据记录的`CVLEGEND`属性的分布图\n",
    "df_order = calls.CVLEGEND.value_counts().sort_values(ascending=True).index\n",
    "sns.countplot(y=\"CVLEGEND\",data=calls,order=df_order,palette=sns.color_palette(\"Blues\",22))"
   ]
  },
  {
   "cell_type": "markdown",
   "metadata": {},
   "source": [
    "#### 观察上面两幅图，给出你的结论\n",
    "* 结论1：在经纬度缺失记录中，入室盗窃和抢劫的数量占比较少，而在所有记录中，这两类的的占比较高，说明在这类犯罪上，更容易获取更详细的犯罪地点信息。相对应的，普通的盗窃罪由于嫌疑人逃窜且往往难以当场发现报案的原因，在缺失经纬度的报案记录中占比首位。\n",
    "* 结论2：从整体数据来看，盗窃和车辆盗窃等犯罪的报案数量大幅度领先于其他犯罪报案，而绑票这类比较严重的犯罪的保安数量较少，一方面是绑票可能受害者也没有报案机会，另一方面可能绑匪会通过手段威胁不允许报案，因此该类案件往往报案数量较少。\n",
    "* 结论3：整体上看，大部分报案记录还是集中在对财物的掠夺和盗窃上，少部分报案记录涉及对人身安全的威胁，像火拼、械斗等严重刑事案件的保安数量明显较少，这也与不同犯罪所隐含的风险相关，高风险的犯罪往往更少人选择，绝大部分犯罪者会更倾向于选择收入稳定而且风险较小的犯罪方式。"
   ]
  },
  {
   "cell_type": "code",
   "execution_count": null,
   "metadata": {
    "scrolled": true
   },
   "outputs": [],
   "source": [
    "# 输出不同`CVLEGEND`的缺失数据比\n",
    "ratio=(calls[(calls.Lat==0)|(calls.Lon==0)].CVLEGEND.value_counts())/(calls.CVLEGEND.value_counts())\n",
    "ratio=ratio.fillna(0)\n",
    "df_ratio_order=ratio.sort_values(ascending=True).index\n",
    "#sns.catplot(y=\"df\")\n",
    "df_ratio=pd.DataFrame(ratio)\n",
    "df_ratio['CVLEGEND_ratio']=df_ratio['CVLEGEND']\n",
    "df_ratio['CVLEGEND']=df_ratio.index\n",
    "#print(df_ratio)\n",
    "sns.catplot(y=\"CVLEGEND\",x='CVLEGEND_ratio',kind='bar',data=df_ratio,order=df_ratio_order,palette=sns.color_palette(\"Oranges\",22))"
   ]
  },
  {
   "cell_type": "markdown",
   "metadata": {},
   "source": [
    "#### 第4步：绘制犯罪地图"
   ]
  },
  {
   "cell_type": "code",
   "execution_count": 183,
   "metadata": {},
   "outputs": [
    {
     "data": {
      "text/html": [
       "<div style=\"width:100%;\"><div style=\"position:relative;width:100%;height:0;padding-bottom:60%;\"><span style=\"color:#565656\">Make this Notebook Trusted to load map: File -> Trust Notebook</span><iframe srcdoc=\"&lt;!DOCTYPE html&gt;\n",
       "&lt;head&gt;    \n",
       "    &lt;meta http-equiv=&quot;content-type&quot; content=&quot;text/html; charset=UTF-8&quot; /&gt;\n",
       "    \n",
       "        &lt;script&gt;\n",
       "            L_NO_TOUCH = false;\n",
       "            L_DISABLE_3D = false;\n",
       "        &lt;/script&gt;\n",
       "    \n",
       "    &lt;style&gt;html, body {width: 100%;height: 100%;margin: 0;padding: 0;}&lt;/style&gt;\n",
       "    &lt;style&gt;#map {position:absolute;top:0;bottom:0;right:0;left:0;}&lt;/style&gt;\n",
       "    &lt;script src=&quot;https://cdn.jsdelivr.net/npm/leaflet@1.6.0/dist/leaflet.js&quot;&gt;&lt;/script&gt;\n",
       "    &lt;script src=&quot;https://code.jquery.com/jquery-1.12.4.min.js&quot;&gt;&lt;/script&gt;\n",
       "    &lt;script src=&quot;https://maxcdn.bootstrapcdn.com/bootstrap/3.2.0/js/bootstrap.min.js&quot;&gt;&lt;/script&gt;\n",
       "    &lt;script src=&quot;https://cdnjs.cloudflare.com/ajax/libs/Leaflet.awesome-markers/2.0.2/leaflet.awesome-markers.js&quot;&gt;&lt;/script&gt;\n",
       "    &lt;link rel=&quot;stylesheet&quot; href=&quot;https://cdn.jsdelivr.net/npm/leaflet@1.6.0/dist/leaflet.css&quot;/&gt;\n",
       "    &lt;link rel=&quot;stylesheet&quot; href=&quot;https://maxcdn.bootstrapcdn.com/bootstrap/3.2.0/css/bootstrap.min.css&quot;/&gt;\n",
       "    &lt;link rel=&quot;stylesheet&quot; href=&quot;https://maxcdn.bootstrapcdn.com/bootstrap/3.2.0/css/bootstrap-theme.min.css&quot;/&gt;\n",
       "    &lt;link rel=&quot;stylesheet&quot; href=&quot;https://maxcdn.bootstrapcdn.com/font-awesome/4.6.3/css/font-awesome.min.css&quot;/&gt;\n",
       "    &lt;link rel=&quot;stylesheet&quot; href=&quot;https://cdnjs.cloudflare.com/ajax/libs/Leaflet.awesome-markers/2.0.2/leaflet.awesome-markers.css&quot;/&gt;\n",
       "    &lt;link rel=&quot;stylesheet&quot; href=&quot;https://cdn.jsdelivr.net/gh/python-visualization/folium/folium/templates/leaflet.awesome.rotate.min.css&quot;/&gt;\n",
       "    \n",
       "            &lt;meta name=&quot;viewport&quot; content=&quot;width=device-width,\n",
       "                initial-scale=1.0, maximum-scale=1.0, user-scalable=no&quot; /&gt;\n",
       "            &lt;style&gt;\n",
       "                #map_8d6885a36c72fefd2052ad66784f28ab {\n",
       "                    position: relative;\n",
       "                    width: 100.0%;\n",
       "                    height: 100.0%;\n",
       "                    left: 0.0%;\n",
       "                    top: 0.0%;\n",
       "                }\n",
       "            &lt;/style&gt;\n",
       "        \n",
       "    &lt;script src=&quot;https://cdn.jsdelivr.net/gh/python-visualization/folium@main/folium/templates/leaflet_heat.min.js&quot;&gt;&lt;/script&gt;\n",
       "&lt;/head&gt;\n",
       "&lt;body&gt;    \n",
       "    \n",
       "            &lt;div class=&quot;folium-map&quot; id=&quot;map_8d6885a36c72fefd2052ad66784f28ab&quot; &gt;&lt;/div&gt;\n",
       "        \n",
       "&lt;/body&gt;\n",
       "&lt;script&gt;    \n",
       "    \n",
       "            var map_8d6885a36c72fefd2052ad66784f28ab = L.map(\n",
       "                &quot;map_8d6885a36c72fefd2052ad66784f28ab&quot;,\n",
       "                {\n",
       "                    center: [37.867613, -122.299898],\n",
       "                    crs: L.CRS.EPSG3857,\n",
       "                    zoom: 12,\n",
       "                    zoomControl: true,\n",
       "                    preferCanvas: false,\n",
       "                }\n",
       "            );\n",
       "\n",
       "            \n",
       "\n",
       "        \n",
       "    \n",
       "            var tile_layer_9cda4a00ad19d5593fcf696217598ef7 = L.tileLayer(\n",
       "                &quot;https://{s}.tile.openstreetmap.org/{z}/{x}/{y}.png&quot;,\n",
       "                {&quot;attribution&quot;: &quot;Data by \\u0026copy; \\u003ca href=\\&quot;http://openstreetmap.org\\&quot;\\u003eOpenStreetMap\\u003c/a\\u003e, under \\u003ca href=\\&quot;http://www.openstreetmap.org/copyright\\&quot;\\u003eODbL\\u003c/a\\u003e.&quot;, &quot;detectRetina&quot;: false, &quot;maxNativeZoom&quot;: 18, &quot;maxZoom&quot;: 18, &quot;minZoom&quot;: 0, &quot;noWrap&quot;: false, &quot;opacity&quot;: 1, &quot;subdomains&quot;: &quot;abc&quot;, &quot;tms&quot;: false}\n",
       "            ).addTo(map_8d6885a36c72fefd2052ad66784f28ab);\n",
       "        \n",
       "    \n",
       "            var heat_map_b6dfb7a0797df416335ab69a2526864d = L.heatLayer(\n",
       "                [[37.846196, -122.275408], [37.846403, -122.272815], [37.846404, -122.275263], [37.846482, -122.273149], [37.846694, -122.273191], [37.846695, -122.272533], [37.846961, -122.271049], [37.847207, -122.271808], [37.847281, -122.27545], [37.847568, -122.273387], [37.847682, -122.279381], [37.847838, -122.275741], [37.847908, -122.277685], [37.848152, -122.275807], [37.848292, -122.271773], [37.848357, -122.281521], [37.848453, -122.273607], [37.84858, -122.27978], [37.848611, -122.271561], [37.848752, -122.271331], [37.848774, -122.271171], [37.848812, -122.278043], [37.848814, -122.278028], [37.84905, -122.269098], [37.849099, -122.275932], [37.849315, -122.279798], [37.849376, -122.294952], [37.849381, -122.273675], [37.849431, -122.278174], [37.849512, -122.272671], [37.849584, -122.28211], [37.849609, -122.282], [37.849672, -122.278231], [37.849675, -122.271149], [37.849732, -122.276144], [37.849747, -122.277907], [37.849786, -122.269782], [37.849814, -122.281093], [37.850001, -122.275963], [37.850005, -122.280256], [37.850085, -122.286077], [37.850285, -122.273794], [37.850367, -122.272807], [37.850376, -122.283034], [37.850385, -122.270897], [37.850434, -122.272607], [37.850444, -122.288866], [37.850541, -122.286037], [37.850588, -122.271471], [37.850601, -122.278447], [37.85062, -122.278313], [37.850675, -122.286265], [37.850681, -122.270619], [37.850798, -122.294689], [37.850809, -122.291042], [37.850899, -122.276174], [37.850967, -122.28623], [37.851017, -122.291088], [37.851032, -122.293546], [37.851038, -122.252448], [37.85108, -122.293322], [37.851107, -122.28324], [37.851263, -122.252477], [37.851324, -122.272873], [37.851477, -122.278651], [37.851503, -122.278518], [37.851521, -122.28549], [37.851568, -122.251451], [37.851619, -122.28937], [37.851653, -122.289194], [37.851699, -122.276546], [37.85175, -122.29379], [37.85177, -122.276489], [37.85188, -122.28947], [37.851919, -122.286667], [37.851928, -122.274017], [37.851944, -122.28349], [37.852066, -122.272994], [37.852066, -122.29388], [37.852136, -122.273695], [37.852155, -122.28661], [37.852211, -122.286336], [37.852236, -122.272856], [37.852304, -122.270045], [37.852348, -122.271972], [37.852379, -122.266119], [37.852402, -122.278728], [37.852422, -122.278571], [37.852435, -122.270917], [37.852529, -122.247255], [37.852543, -122.263716], [37.852618, -122.283677], [37.852683, -122.276556], [37.852736, -122.261877], [37.85274, -122.283711], [37.852764, -122.26165], [37.852822, -122.291677], [37.852871, -122.26799], [37.852956, -122.266195], [37.853008, -122.286877], [37.85306, -122.281362], [37.853079, -122.293864], [37.853089, -122.266212], [37.8531, -122.266131], [37.853203, -122.279642], [37.853221, -122.280832], [37.853275, -122.279078], [37.853289, -122.278942], [37.853316, -122.278738], [37.853364, -122.264134], [37.853386, -122.263973], [37.853426, -122.269463], [37.853504, -122.255895], [37.853552, -122.268286], [37.853552, -122.291561], [37.853554, -122.276925], [37.853576, -122.287202], [37.853603, -122.283961], [37.853626, -122.254874], [37.853638, -122.289588], [37.853665, -122.252715], [37.853723, -122.259975], [37.853738, -122.251663], [37.85379, -122.260778], [37.853861, -122.26598], [37.853864, -122.285643], [37.853896, -122.252739], [37.853929, -122.289679], [37.853951, -122.273198], [37.853959, -122.284067], [37.854002, -122.248587], [37.854012, -122.251243], [37.854021, -122.273207], [37.854186, -122.279157], [37.854215, -122.269167], [37.854265, -122.271133], [37.854272, -122.268418], [37.854274, -122.28319], [37.854286, -122.271015], [37.854382, -122.28747], [37.854427, -122.270006], [37.854442, -122.277107], [37.854517, -122.281755], [37.854536, -122.266403], [37.854612, -122.281178], [37.854732, -122.26898], [37.854833, -122.279839], [37.854857, -122.262314], [37.85488, -122.269079], [37.85489, -122.252564], [37.854891, -122.280148], [37.8549, -122.27945], [37.85491, -122.268666], [37.855, -122.277202], [37.855025, -122.261084], [37.855026, -122.266475], [37.855065, -122.249937], [37.855081, -122.268163], [37.855167, -122.258753], [37.85518, -122.247636], [37.855199, -122.259768], [37.85525, -122.277126], [37.855293, -122.266502], [37.855294, -122.292475], [37.855317, -122.292357], [37.855435, -122.259841], [37.855509, -122.291368], [37.855523, -122.266529], [37.855576, -122.282153], [37.855588, -122.275029], [37.855632, -122.256606], [37.855651, -122.255006], [37.855671, -122.262461], [37.855678, -122.274429], [37.855684, -122.263491], [37.855721, -122.2559], [37.855748, -122.290281], [37.855793, -122.281493], [37.855798, -122.252707], [37.855824, -122.247116], [37.855824, -122.25502], [37.85583, -122.27339], [37.855854, -122.273237], [37.8559, -122.283101], [37.855925, -122.252939], [37.855935, -122.250579], [37.855954, -122.254022], [37.855968, -122.289186], [37.855969, -122.236484], [37.855998, -122.271278], [37.856048, -122.279543], [37.856078, -122.279311], [37.856088, -122.29274], [37.856111, -122.260248], [37.856121, -122.26876], [37.856132, -122.271292], [37.856134, -122.270198], [37.856291, -122.234692], [37.856416, -122.269069], [37.856528, -122.268297], [37.856553, -122.256803], [37.856599, -122.256451], [37.856614, -122.267596], [37.856686, -122.241223], [37.856719, -122.266672], [37.856755, -122.255249], [37.856769, -122.27984], [37.856847, -122.265765], [37.856902, -122.261236], [37.856946, -122.279719], [37.856968, -122.279544], [37.857041, -122.253053], [37.857054, -122.271393], [37.857099, -122.263785], [37.857149, -122.247462], [37.85717, -122.252209], [37.857216, -122.277614], [37.857216, -122.291925], [37.857246, -122.277347], [37.857254, -122.262649], [37.857336, -122.290797], [37.857377, -122.268709], [37.857387, -122.261536], [37.857437, -122.268263], [37.857452, -122.259548], [37.857502, -122.290845], [37.857533, -122.282557], [37.857637, -122.266803], [37.857647, -122.273145], [37.857661, -122.259521], [37.857674, -122.259434], [37.857694, -122.281628], [37.857712, -122.281125], [37.857714, -122.288536], [37.857729, -122.239892], [37.857745, -122.23991], [37.857754, -122.289737], [37.857784, -122.272998], [37.857787, -122.257013], [37.857792, -122.258537], [37.857809, -122.271478], [37.857825, -122.249088], [37.857856, -122.279721], [37.857951, -122.271494], [37.857993, -122.263965], [37.858047, -122.245306], [37.85811, -122.277788], [37.858116, -122.268002], [37.858132, -122.277595], [37.858147, -122.2848], [37.858156, -122.254397], [37.858165, -122.255687], [37.85832, -122.254415], [37.858337, -122.261387], [37.858356, -122.253179], [37.858392, -122.275421], [37.858427, -122.282485], [37.858431, -122.293497], [37.858433, -122.280183], [37.858439, -122.26757], [37.858448, -122.282308], [37.858455, -122.293374], [37.858483, -122.253191], [37.858518, -122.252653], [37.858518, -122.288665], [37.858525, -122.266906], [37.858628, -122.250783], [37.858646, -122.292392], [37.858673, -122.273365], [37.858759, -122.248521], [37.858759, -122.264112], [37.858777, -122.29006], [37.858783, -122.248189], [37.858785, -122.28661], [37.858856, -122.256956], [37.858856, -122.271592], [37.858863, -122.279024], [37.858888, -122.264137], [37.858892, -122.29127], [37.858903, -122.243972], [37.858993, -122.244574], [37.859006, -122.277874], [37.859046, -122.284696], [37.859102, -122.290163], [37.859116, -122.269336], [37.859184, -122.289022], [37.859195, -122.261915], [37.859216, -122.26855], [37.859259, -122.275787], [37.859309, -122.259291], [37.85931, -122.273495], [37.859364, -122.288914], [37.859381, -122.298231], [37.859412, -122.281876], [37.859446, -122.266969], [37.859494, -122.271669], [37.859528, -122.25926], [37.859539, -122.259172], [37.859556, -122.273545], [37.859557, -122.29733], [37.859568, -122.265956], [37.859589, -122.257019], [37.85959, -122.28701], [37.859614, -122.280268], [37.859665, -122.27169], [37.859675, -122.267173], [37.85968, -122.255796], [37.85976, -122.257034], [37.859767, -122.296263], [37.859789, -122.248063], [37.8598, -122.264351], [37.859802, -122.267177], [37.859804, -122.251257], [37.859846, -122.253325], [37.859854, -122.255807], [37.85988, -122.250176], [37.859888, -122.295585], [37.859889, -122.278167], [37.859897, -122.252288], [37.859906, -122.284931], [37.859918, -122.254574], [37.859988, -122.253339], [37.860045, -122.250988], [37.860105, -122.261901], [37.860116, -122.29166], [37.860159, -122.275978], [37.860172, -122.282847], [37.860189, -122.294048], [37.860225, -122.269453], [37.860264, -122.282867], [37.860265, -122.289213], [37.860325, -122.267129], [37.860334, -122.280567], [37.860366, -122.266802], [37.860372, -122.25981], [37.860417, -122.292939], [37.860459, -122.266139], [37.860477, -122.280596], [37.860507, -122.280446], [37.860549, -122.286969], [37.860551, -122.264511], [37.86066, -122.253407], [37.860686, -122.278337], [37.860687, -122.26454], [37.860732, -122.291369], [37.860766, -122.255895], [37.860768, -122.278249], [37.860796, -122.285112], [37.860858, -122.290733], [37.860933, -122.248758], [37.86097, -122.262273], [37.860993, -122.262104], [37.86107, -122.282975], [37.861078, -122.289632], [37.8611, -122.297826], [37.861107, -122.289485], [37.861118, -122.259948], [37.861144, -122.298742], [37.861265, -122.26698], [37.861283, -122.273911], [37.861386, -122.287323], [37.861387, -122.259001], [37.86139, -122.280449], [37.861409, -122.253481], [37.861511, -122.29681], [37.861541, -122.251156], [37.861553, -122.296599], [37.861573, -122.257452], [37.861577, -122.285837], [37.861591, -122.254736], [37.861604, -122.264366], [37.861614, -122.316874], [37.861627, -122.285466], [37.861645, -122.253508], [37.861653, -122.278529], [37.861661, -122.256169], [37.861677, -122.26716], [37.861795, -122.253525], [37.861843, -122.269644], [37.861887, -122.262292], [37.861929, -122.276345], [37.86194, -122.283026], [37.861944, -122.294607], [37.861991, -122.294394], [37.862024, -122.251212], [37.862059, -122.281167], [37.862118, -122.25338], [37.862156, -122.260167], [37.862169, -122.267084], [37.862184, -122.293517], [37.862189, -122.25991], [37.862202, -122.281026], [37.862203, -122.252443], [37.862334, -122.264828], [37.862379, -122.250054], [37.862393, -122.248851], [37.862471, -122.271904], [37.86249, -122.29124], [37.862491, -122.2646], [37.862494, -122.24706], [37.862512, -122.290094], [37.862516, -122.27853], [37.862733, -122.269741], [37.862741, -122.300041], [37.862763, -122.262639], [37.86277, -122.297218], [37.862777, -122.276571], [37.862781, -122.269376], [37.862789, -122.317198], [37.862808, -122.27633], [37.862817, -122.298359], [37.862877, -122.290055], [37.862927, -122.258784], [37.862938, -122.274352], [37.862994, -122.289129], [37.863053, -122.267321], [37.863069, -122.298445], [37.863072, -122.260352], [37.863092, -122.274125], [37.863099, -122.27207], [37.863099, -122.288255], [37.86314, -122.269786], [37.863157, -122.283185], [37.863241, -122.286176], [37.863292, -122.256293], [37.86331, -122.316113], [37.863353, -122.265053], [37.863353, -122.272097], [37.863368, -122.296921], [37.863369, -122.257622], [37.863379, -122.28494], [37.863443, -122.256304], [37.863522, -122.254992], [37.863598, -122.253693], [37.863611, -122.317566], [37.863625, -122.284155], [37.863646, -122.262822], [37.863652, -122.269843], [37.863679, -122.269631], [37.863736, -122.262313], [37.863758, -122.295053], [37.863811, -122.267412], [37.863824, -122.282282], [37.863839, -122.281391], [37.863934, -122.250262], [37.863938, -122.253735], [37.863945, -122.294086], [37.863963, -122.260546], [37.863977, -122.267307], [37.864014, -122.281223], [37.864061, -122.29877], [37.864101, -122.25956], [37.864124, -122.250282], [37.864144, -122.280257], [37.864154, -122.293041], [37.864173, -122.258616], [37.864238, -122.265263], [37.864258, -122.272202], [37.864301, -122.279118], [37.864333, -122.278792], [37.864335, -122.286429], [37.864346, -122.291843], [37.864385, -122.290697], [37.864535, -122.262993], [37.86456, -122.269954], [37.864583, -122.275705], [37.864591, -122.276855], [37.864609, -122.290769], [37.864692, -122.294325], [37.864693, -122.299701], [37.864701, -122.260693], [37.86476, -122.297852], [37.864826, -122.260719], [37.864827, -122.258577], [37.86487, -122.267543], [37.864872, -122.274587], [37.864908, -122.267289], [37.864976, -122.266752], [37.865024, -122.273446], [37.865034, -122.297939], [37.865121, -122.258455], [37.865126, -122.296746], [37.865134, -122.258331], [37.865141, -122.265441], [37.865149, -122.256487], [37.865172, -122.311155], [37.865202, -122.257795], [37.865205, -122.272027], [37.865374, -122.256511], [37.86542, -122.25618], [37.865439, -122.295736], [37.865443, -122.263189], [37.865466, -122.27005], [37.86549, -122.295702], [37.865501, -122.269774], [37.865511, -122.309967], [37.865529, -122.282628], [37.865535, -122.255235], [37.865711, -122.25389], [37.865729, -122.260903], [37.865748, -122.253396], [37.865772, -122.267643], [37.865791, -122.26751], [37.865793, -122.293498], [37.865793, -122.301779], [37.865795, -122.28044], [37.865797, -122.252741], [37.86581, -122.301707], [37.865816, -122.281601], [37.865826, -122.267244], [37.865868, -122.251595], [37.865945, -122.250471], [37.865991, -122.249582], [37.866025, -122.258623], [37.866037, -122.265618], [37.866074, -122.26331], [37.866135, -122.279116], [37.866145, -122.300016], [37.866152, -122.292423], [37.866174, -122.26454], [37.866206, -122.29129], [37.866253, -122.299483], [37.86626, -122.298335], [37.866265, -122.278162], [37.866293, -122.30551], [37.866311, -122.256361], [37.866327, -122.263359], [37.866361, -122.291341], [37.866393, -122.29119], [37.866426, -122.269762], [37.866472, -122.298403], [37.866508, -122.261057], [37.866513, -122.27474], [37.866534, -122.275897], [37.866558, -122.290015], [37.866563, -122.297217], [37.866568, -122.254084], [37.866594, -122.287944], [37.866622, -122.26108], [37.866629, -122.300423], [37.866696, -122.274757], [37.866698, -122.297261], [37.8667, -122.267614], [37.866724, -122.288804], [37.866739, -122.267299], [37.866761, -122.258779], [37.866903, -122.285439], [37.866919, -122.258812], [37.866924, -122.283899], [37.866929, -122.295042], [37.866935, -122.265772], [37.866936, -122.296218], [37.86695, -122.286984], [37.866969, -122.26553], [37.866976, -122.30251], [37.866981, -122.302083], [37.867106, -122.286054], [37.867108, -122.292737], [37.86715, -122.295113], [37.867176, -122.267802], [37.867209, -122.256554], [37.867221, -122.263531], [37.867259, -122.26324], [37.86727, -122.291472], [37.867271, -122.298682], [37.867301, -122.255777], [37.867307, -122.300468], [37.867317, -122.293982], [37.867332, -122.269908], [37.867373, -122.249515], [37.867383, -122.293938], [37.867482, -122.254253], [37.867491, -122.254054], [37.867501, -122.291709], [37.867513, -122.25195], [37.867513, -122.26127], [37.867595, -122.292897], [37.867613, -122.299898], [37.867639, -122.298782], [37.867645, -122.299908], [37.867695, -122.284012], [37.867708, -122.250801], [37.86771, -122.298466], [37.867717, -122.249901], [37.867805, -122.291809], [37.867816, -122.258994], [37.867822, -122.266003], [37.867831, -122.265858], [37.867852, -122.258699], [37.867863, -122.265693], [37.867906, -122.279428], [37.867926, -122.297664], [37.86793, -122.251798], [37.867948, -122.250664], [37.867972, -122.263699], [37.868103, -122.25672], [37.868108, -122.277222], [37.86814, -122.263736], [37.868161, -122.291751], [37.868164, -122.256314], [37.868164, -122.270363], [37.868194, -122.276063], [37.868199, -122.263253], [37.868204, -122.270054], [37.868206, -122.277232], [37.86825, -122.300093], [37.868263, -122.296013], [37.868267, -122.296633], [37.868325, -122.269125], [37.868334, -122.303753], [37.868339, -122.290388], [37.868352, -122.254459], [37.868355, -122.274953], [37.868366, -122.295508], [37.868417, -122.302539], [37.868418, -122.241551], [37.868424, -122.261451], [37.868447, -122.261268], [37.86847, -122.289354], [37.868489, -122.26795], [37.868512, -122.26781], [37.868574, -122.270415], [37.868591, -122.294393], [37.868641, -122.29415], [37.868663, -122.301325], [37.868667, -122.313656], [37.868682, -122.272691], [37.868687, -122.259401], [37.868706, -122.266279], [37.868714, -122.259189], [37.868722, -122.259123], [37.868747, -122.287342], [37.868785, -122.272701], [37.868815, -122.292131], [37.868878, -122.300284], [37.868893, -122.286229], [37.868898, -122.243093], [37.868913, -122.28608], [37.868915, -122.293322], [37.868927, -122.278414], [37.868957, -122.254552], [37.868997, -122.256886], [37.869031, -122.256611], [37.869041, -122.292204], [37.869057, -122.270463], [37.869058, -122.270455], [37.869067, -122.292043], [37.869084, -122.299245], [37.869105, -122.270064], [37.869113, -122.250903], [37.869167, -122.284138], [37.869186, -122.283943], [37.8692, -122.269308], [37.86925, -122.266076], [37.869284, -122.254556], [37.869293, -122.296976], [37.869314, -122.2981], [37.869332, -122.25019], [37.869363, -122.268028], [37.869385, -122.28953], [37.86939, -122.267883], [37.869415, -122.250542], [37.869423, -122.281951], [37.869448, -122.281783], [37.869462, -122.31355], [37.869488, -122.289522], [37.869578, -122.280839], [37.869579, -122.252328], [37.869586, -122.288028], [37.869594, -122.30292], [37.869625, -122.265892], [37.869642, -122.287492], [37.869652, -122.265882], [37.869685, -122.272804], [37.869688, -122.272805], [37.869746, -122.295968], [37.869764, -122.28655], [37.869839, -122.252365], [37.869849, -122.289561], [37.869888, -122.300618], [37.869918, -122.2464], [37.869921, -122.294825], [37.869973, -122.270557], [37.869993, -122.294774], [37.870036, -122.277169], [37.870054, -122.284263], [37.870205, -122.292581], [37.870213, -122.293749], [37.870219, -122.273994], [37.870243, -122.275149], [37.870256, -122.298419], [37.870287, -122.316238], [37.870308, -122.26805], [37.87036, -122.281864], [37.87039, -122.28811], [37.870396, -122.281585], [37.8704, -122.292644], [37.870417, -122.292485], [37.87043, -122.274014], [37.870562, -122.314503], [37.870584, -122.272908], [37.870602, -122.265794], [37.870603, -122.270612], [37.870627, -122.279765], [37.870639, -122.272468], [37.870652, -122.27958], [37.870709, -122.304598], [37.870754, -122.285371], [37.87077, -122.289665], [37.87084, -122.289678], [37.870867, -122.270635], [37.870881, -122.284399], [37.87091, -122.265993], [37.870911, -122.289684], [37.870924, -122.277518], [37.870948, -122.27733], [37.870972, -122.288185], [37.871013, -122.296366], [37.871033, -122.277532], [37.871167, -122.268285], [37.871171, -122.267718], [37.871175, -122.304755], [37.871181, -122.295211], [37.871225, -122.284447], [37.871246, -122.274991], [37.871265, -122.295043], [37.871317, -122.286575], [37.871318, -122.275278], [37.871323, -122.267222], [37.871369, -122.292954], [37.871388, -122.294104], [37.87142, -122.303532], [37.87146, -122.266052], [37.871461, -122.270706], [37.871544, -122.272714], [37.871593, -122.279879], [37.871605, -122.273018], [37.871607, -122.284336], [37.871666, -122.302314], [37.871689, -122.292898], [37.871713, -122.282185], [37.871743, -122.271878], [37.871756, -122.2799], [37.871828, -122.270516], [37.871883, -122.301255], [37.8719, -122.268389], [37.871902, -122.27061], [37.871917, -122.298961], [37.871978, -122.303701], [37.87199, -122.273062], [37.872084, -122.300218], [37.872099, -122.288323], [37.872158, -122.282066], [37.872166, -122.275372], [37.872175, -122.267835], [37.872185, -122.268407], [37.872231, -122.29677], [37.87227, -122.266144], [37.872435, -122.279988], [37.872463, -122.273117], [37.87247, -122.273021], [37.87247, -122.279718], [37.872472, -122.266164], [37.872542, -122.271978], [37.872545, -122.298043], [37.872593, -122.293184], [37.872599, -122.303889], [37.872656, -122.292748], [37.872691, -122.270741], [37.872725, -122.277729], [37.872831, -122.269636], [37.87288, -122.276518], [37.872965, -122.305264], [37.872989, -122.268532], [37.872992, -122.295801], [37.873017, -122.275481], [37.873024, -122.294652], [37.87304, -122.289659], [37.873055, -122.282337], [37.873079, -122.304672], [37.873085, -122.273187], [37.873194, -122.2813], [37.873194, -122.30407], [37.873202, -122.267443], [37.873207, -122.294711], [37.87325, -122.293558], [37.873327, -122.273214], [37.873343, -122.280086], [37.873393, -122.286956], [37.873454, -122.27209], [37.873455, -122.293465], [37.873607, -122.270903], [37.873627, -122.277834], [37.873638, -122.304222], [37.873639, -122.27064], [37.873661, -122.301831], [37.873687, -122.268616], [37.873723, -122.299532], [37.873865, -122.268641], [37.873865, -122.300777], [37.873885, -122.266332], [37.873908, -122.290025], [37.873921, -122.275577], [37.873941, -122.289764], [37.873976, -122.282257], [37.874094, -122.299649], [37.874095, -122.288542], [37.874182, -122.265937], [37.874203, -122.273308], [37.874251, -122.280203], [37.874271, -122.265391], [37.874351, -122.272197], [37.87448, -122.297461], [37.874489, -122.271072], [37.874537, -122.263862], [37.874554, -122.296319], [37.874575, -122.284796], [37.874581, -122.277744], [37.874781, -122.268758], [37.874802, -122.29615], [37.874827, -122.275696], [37.874843, -122.263711], [37.874844, -122.261596], [37.874844, -122.282552], [37.874845, -122.295237], [37.874872, -122.282359], [37.874906, -122.301138], [37.874929, -122.267601], [37.875035, -122.288668], [37.875048, -122.260399], [37.875053, -122.26548], [37.875084, -122.266464], [37.875113, -122.273413], [37.875132, -122.293103], [37.875166, -122.280125], [37.875189, -122.294176], [37.875281, -122.293681], [37.875308, -122.30592], [37.875322, -122.293201], [37.875339, -122.258289], [37.875391, -122.271141], [37.875426, -122.278057], [37.875437, -122.292305], [37.87551, -122.291424], [37.875525, -122.256814], [37.875531, -122.304855], [37.875556, -122.291439], [37.875657, -122.288727], [37.875707, -122.275816], [37.875738, -122.275607], [37.875826, -122.303426], [37.875865, -122.261749], [37.8759, -122.288764], [37.875966, -122.304987], [37.875971, -122.296771], [37.876018, -122.273517], [37.876045, -122.260336], [37.876084, -122.280105], [37.876085, -122.306138], [37.876174, -122.287054], [37.876186, -122.30158], [37.876251, -122.262453], [37.876272, -122.258502], [37.876297, -122.27124], [37.876307, -122.268923], [37.876321, -122.258058], [37.876333, -122.278118], [37.876339, -122.285012], [37.876386, -122.285017], [37.876386, -122.29456], [37.876428, -122.291736], [37.876549, -122.290899], [37.876556, -122.255875], [37.876565, -122.293566], [37.876594, -122.268956], [37.876595, -122.267789], [37.876607, -122.289], [37.876612, -122.268847], [37.876667, -122.290016], [37.876696, -122.282465], [37.876718, -122.305216], [37.876729, -122.267804], [37.876791, -122.280472], [37.876881, -122.266666], [37.876897, -122.28868], [37.876921, -122.265567], [37.876954, -122.28049], [37.876965, -122.260544], [37.877015, -122.265621], [37.877037, -122.278186], [37.877047, -122.286183], [37.877196, -122.302986], [37.877215, -122.258352], [37.877232, -122.271244], [37.877323, -122.264273], [37.877324, -122.262666], [37.877388, -122.256872], [37.877393, -122.301918], [37.87742, -122.292046], [37.877482, -122.256109], [37.877528, -122.275956], [37.877623, -122.30078], [37.877636, -122.264323], [37.877663, -122.274831], [37.877678, -122.281631], [37.877696, -122.273684], [37.877793, -122.260709], [37.877797, -122.309615], [37.877822, -122.273697], [37.87783, -122.299723], [37.877863, -122.308855], [37.877882, -122.308751], [37.877951, -122.271395], [37.878005, -122.257034], [37.878016, -122.305642], [37.878024, -122.30798], [37.878031, -122.288763], [37.878056, -122.258553], [37.878113, -122.269114], [37.878239, -122.288374], [37.878244, -122.287239], [37.878286, -122.257141], [37.878312, -122.306543], [37.878326, -122.306549], [37.878372, -122.296373], [37.878373, -122.262902], [37.878378, -122.297029], [37.878405, -122.306072], [37.878407, -122.267962], [37.878407, -122.26914], [37.878423, -122.269023], [37.878461, -122.305788], [37.878499, -122.296415], [37.878552, -122.266844], [37.878571, -122.282954], [37.878644, -122.303432], [37.878713, -122.266855], [37.878722, -122.295312], [37.878736, -122.304435], [37.878747, -122.29519], [37.878756, -122.266534], [37.878772, -122.294276], [37.878819, -122.290993], [37.878904, -122.258814], [37.878915, -122.303521], [37.878973, -122.279366], [37.878997, -122.264607], [37.879016, -122.264445], [37.879027, -122.288477], [37.879058, -122.282584], [37.879097, -122.302468], [37.879129, -122.302478], [37.879188, -122.276107], [37.879194, -122.29176], [37.8792, -122.263044], [37.879226, -122.260975], [37.879335, -122.301332], [37.879348, -122.258599], [37.879524, -122.30028], [37.879571, -122.300296], [37.879609, -122.285818], [37.879611, -122.257697], [37.879677, -122.299779], [37.879679, -122.273638], [37.879679, -122.295488], [37.879708, -122.297995], [37.879888, -122.285306], [37.879901, -122.279902], [37.879921, -122.271646], [37.879968, -122.296885], [37.880021, -122.298091], [37.880027, -122.279976], [37.880062, -122.307246], [37.880075, -122.270476], [37.880133, -122.279695], [37.88014, -122.297498], [37.880163, -122.30676], [37.880227, -122.26936], [37.880228, -122.295798], [37.88024, -122.306387], [37.880245, -122.296973], [37.880248, -122.285626], [37.880266, -122.269032], [37.880376, -122.268183], [37.880383, -122.285574], [37.880467, -122.27869], [37.880468, -122.295876], [37.88051, -122.259033], [37.880518, -122.286747], [37.880519, -122.267051], [37.88055, -122.304962], [37.880551, -122.304085], [37.880636, -122.264757], [37.880652, -122.283181], [37.880667, -122.29489], [37.880718, -122.304145], [37.880734, -122.265359], [37.880756, -122.303056], [37.880787, -122.277865], [37.8808, -122.294036], [37.880803, -122.274005], [37.880891, -122.290189], [37.880893, -122.263673], [37.880902, -122.287757], [37.880922, -122.303115], [37.880971, -122.306626], [37.880983, -122.269489], [37.881003, -122.293212], [37.881004, -122.283225], [37.881098, -122.261415], [37.88111, -122.262584], [37.881138, -122.28875], [37.881141, -122.275177], [37.881142, -122.30191], [37.881164, -122.292378], [37.881227, -122.29097], [37.881366, -122.289688], [37.881433, -122.272921], [37.881559, -122.302033], [37.881602, -122.286332], [37.881687, -122.281929], [37.881694, -122.299791], [37.881788, -122.270678], [37.881814, -122.298643], [37.881849, -122.258126], [37.88192, -122.270485], [37.881945, -122.288917], [37.881957, -122.269551], [37.881982, -122.248043], [37.882011, -122.276495], [37.882016, -122.281271], [37.882024, -122.29756], [37.882033, -122.260985], [37.882033, -122.296381], [37.88205, -122.269454], [37.882112, -122.303514], [37.882135, -122.267239], [37.882199, -122.268386], [37.882217, -122.302226], [37.88222, -122.247955], [37.882258, -122.299991], [37.882279, -122.296321], [37.882461, -122.265026], [37.882469, -122.294567], [37.88248, -122.266137], [37.882875, -122.288595], [37.882943, -122.279383], [37.882957, -122.289458], [37.882985, -122.261615], [37.883027, -122.264574], [37.883039, -122.290301], [37.883072, -122.291168], [37.88308, -122.274259], [37.883103, -122.275404], [37.883153, -122.292104], [37.883202, -122.251978], [37.883298, -122.274045], [37.883407, -122.273154], [37.883477, -122.274306], [37.883505, -122.257888], [37.883512, -122.27103], [37.883529, -122.259884], [37.883555, -122.272036], [37.883608, -122.285672], [37.883622, -122.269734], [37.883684, -122.267485], [37.883948, -122.296991], [37.884097, -122.279301], [37.884163, -122.265236], [37.884257, -122.262636], [37.884314, -122.24683], [37.884368, -122.255722], [37.884534, -122.257623], [37.884693, -122.251745], [37.884902, -122.24847], [37.884969, -122.30003], [37.885032, -122.274324], [37.885167, -122.275498], [37.885206, -122.266462], [37.885207, -122.275685], [37.885297, -122.269931], [37.885312, -122.259577], [37.885385, -122.273547], [37.885413, -122.268753], [37.885425, -122.274915], [37.88548, -122.2713], [37.885525, -122.254405], [37.885559, -122.258485], [37.885653, -122.269953], [37.885683, -122.308114], [37.885691, -122.27282], [37.885744, -122.278017], [37.885776, -122.267671], [37.88579, -122.268811], [37.88588, -122.253359], [37.886305, -122.275389], [37.886401, -122.251877], [37.886484, -122.249627], [37.886766, -122.282493], [37.887199, -122.275869], [37.887213, -122.278387], [37.887246, -122.278286], [37.887747, -122.264514], [37.88788, -122.272336], [37.888053, -122.253497], [37.888199, -122.250826], [37.888479, -122.272362], [37.888512, -122.266746], [37.888679, -122.280432], [37.888768, -122.279287], [37.88878, -122.267659], [37.888792, -122.266538], [37.888842, -122.254155], [37.889017, -122.272389], [37.889362, -122.268883], [37.889399, -122.262594], [37.889494, -122.269171], [37.889658, -122.270137], [37.88992, -122.261744], [37.889989, -122.252226], [37.89008, -122.260506], [37.890212, -122.254457], [37.890254, -122.272214], [37.890274, -122.260794], [37.890366, -122.266998], [37.890651, -122.258331], [37.890706, -122.267186], [37.890716, -122.268299], [37.890886, -122.275534], [37.890928, -122.287251], [37.890977, -122.259745], [37.891068, -122.265828], [37.891095, -122.284247], [37.891199, -122.282401], [37.891214, -122.282158], [37.891332, -122.279975], [37.891368, -122.279257], [37.891408, -122.278186], [37.891454, -122.277124], [37.891499, -122.270009], [37.891807, -122.284792], [37.891827, -122.275094], [37.892108, -122.279995], [37.892427, -122.2728], [37.892524, -122.256323], [37.892598, -122.280094], [37.892607, -122.268395], [37.892638, -122.284804], [37.892642, -122.283135], [37.892804, -122.285696], [37.892865, -122.287084], [37.892875, -122.268748], [37.892987, -122.252326], [37.893104, -122.267605], [37.893209, -122.267612], [37.893448, -122.272137], [37.893829, -122.266249], [37.894233, -122.260552], [37.894468, -122.265464], [37.894692, -122.272265], [37.894709, -122.259491], [37.894747, -122.287005], [37.894836, -122.268516], [37.894998, -122.256406], [37.895076, -122.264743], [37.895099, -122.270493], [37.895119, -122.261389], [37.895296, -122.256591], [37.895365, -122.258638], [37.895976, -122.2558], [37.896247, -122.258088], [37.896375, -122.262674], [37.896376, -122.262677], [37.896395, -122.285494], [37.896429, -122.285145], [37.896479, -122.264286], [37.896582, -122.286354], [37.896648, -122.277424], [37.896776, -122.281277], [37.896956, -122.261613], [37.897129, -122.278478], [37.897322, -122.282376], [37.897434, -122.266779], [37.89759, -122.260784], [37.897731, -122.271759], [37.897734, -122.266944], [37.898024, -122.269917], [37.898138, -122.268255], [37.898431, -122.285636], [37.898517, -122.261959], [37.898524, -122.267129], [37.898645, -122.280593], [37.898744, -122.276666], [37.899206, -122.264958], [37.899211, -122.264973], [37.899241, -122.265058], [37.899278, -122.283222], [37.899602, -122.271102], [37.899631, -122.272536], [37.899959, -122.282042], [37.899966, -122.27964], [37.900845, -122.277169], [37.900934, -122.267684], [37.901043, -122.266471], [37.901178, -122.266321], [37.901397, -122.276616], [37.901596, -122.270187], [37.902646, -122.269596], [37.902647, -122.277413], [37.902692, -122.264479], [37.902979, -122.2686], [37.903026, -122.274123], [37.90304, -122.270552], [37.90331, -122.275218], [37.903485, -122.269546], [37.904154, -122.272662], [37.904355, -122.270263]],\n",
       "                {&quot;blur&quot;: 15, &quot;maxZoom&quot;: 10, &quot;minOpacity&quot;: 0.5, &quot;radius&quot;: 7}\n",
       "            ).addTo(map_8d6885a36c72fefd2052ad66784f28ab);\n",
       "        \n",
       "&lt;/script&gt;\" style=\"position:absolute;width:100%;height:100%;left:0;top:0;border:none !important;\" allowfullscreen webkitallowfullscreen mozallowfullscreen></iframe></div></div>"
      ],
      "text/plain": [
       "<folium.folium.Map at 0x7fa38eb67be0>"
      ]
     },
     "execution_count": 183,
     "metadata": {},
     "output_type": "execute_result"
    }
   ],
   "source": [
    "import folium\n",
    "import folium.plugins\n",
    "from folium.plugins import HeatMap\n",
    "calls_not_null=calls[(calls.Lat!=0)&(calls.Lon!=0)]\n",
    "calls_map = folium.Map(location=[37.867613,-122.299898],zoom_start=12)#绘制Map，原始定位在Berkely，开始缩放程度是12倍\n",
    "# 使用folium工具，将经纬度不为空的数据绘制在地图上\n",
    "HeatMap(data=calls_not_null[['Lat','Lon']].groupby(['Lat','Lon']).sum().reset_index().values.tolist(), radius=7, max_zoom=10).add_to(calls_map)\n",
    "calls_map"
   ]
  },
  {
   "cell_type": "code",
   "execution_count": null,
   "metadata": {},
   "outputs": [],
   "source": []
  }
 ],
 "metadata": {
  "kernelspec": {
   "display_name": "Python 3.7.1 64-bit",
   "language": "python",
   "name": "python3"
  },
  "language_info": {
   "codemirror_mode": {
    "name": "ipython",
    "version": 3
   },
   "file_extension": ".py",
   "mimetype": "text/x-python",
   "name": "python",
   "nbconvert_exporter": "python",
   "pygments_lexer": "ipython3",
   "version": "3.7.1"
  },
  "vscode": {
   "interpreter": {
    "hash": "7dd15e51a4470d085f7a243fb04650bc4fe166c7b9d4ae5b8d1a77af89f8b74e"
   }
  }
 },
 "nbformat": 4,
 "nbformat_minor": 5
}
